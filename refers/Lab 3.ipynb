{
 "cells": [
  {
   "cell_type": "code",
   "execution_count": 1,
   "metadata": {
    "id": "_vcd9X9gTiZY"
   },
   "outputs": [
    {
     "name": "stderr",
     "output_type": "stream",
     "text": [
      "2022-06-01 00:51:54.629483: W tensorflow/stream_executor/platform/default/dso_loader.cc:64] Could not load dynamic library 'libcudart.so.11.0'; dlerror: libcudart.so.11.0: cannot open shared object file: No such file or directory; LD_LIBRARY_PATH: :/usr/lib/nvidia:/home/jskang/.mujoco/mujoco210/bin\n",
      "2022-06-01 00:51:54.629521: I tensorflow/stream_executor/cuda/cudart_stub.cc:29] Ignore above cudart dlerror if you do not have a GPU set up on your machine.\n"
     ]
    }
   ],
   "source": [
    "import tensorflow as tf\n",
    "from tensorflow import keras\n",
    "\n",
    "from collections import deque\n",
    "import numpy as np\n",
    "%matplotlib inline\n",
    "import matplotlib\n",
    "import matplotlib.pyplot as plt\n",
    "\n",
    "import gym"
   ]
  },
  {
   "cell_type": "code",
   "execution_count": 2,
   "metadata": {
    "colab": {
     "base_uri": "https://localhost:8080/"
    },
    "executionInfo": {
     "elapsed": 11,
     "status": "ok",
     "timestamp": 1651212719232,
     "user": {
      "displayName": "­황태현",
      "userId": "08611587733822633308"
     },
     "user_tz": -540
    },
    "id": "ptS4IWGJTsEa",
    "outputId": "a87d06b5-5321-4095-e48b-7519a769b114"
   },
   "outputs": [
    {
     "name": "stdout",
     "output_type": "stream",
     "text": [
      "2.8.0\n"
     ]
    }
   ],
   "source": [
    "print(tf.__version__)"
   ]
  },
  {
   "cell_type": "markdown",
   "metadata": {
    "id": "YvnMR2VVTiZj"
   },
   "source": [
    "## DQN (Deep Q Network)\n",
    "\n",
    "In this lab, we will apply deep learning as function approximations in reinforcement learning. \n",
    "\n",
    "Reference: DQN https://arxiv.org/abs/1312.5602\n",
    "\n",
    "In tabular Q-learning, we maintain a table of state-action pairs $(s,a)$ and save one action value for each entry $Q(s,a),\\forall (s,a)$. At each time step $t$, we are in state $s_t$, then we choose action based on $\\epsilon-$greedy strategy. With prob $\\epsilon$, choose action uniformly random; with prob $1-\\epsilon$, choose action based on $$a_t = \\arg\\max_a Q(s_t,a)$$ \n",
    "\n",
    "We then get the instant reward $r_t$, update the Q-table using the following rule\n",
    "\n",
    "$$Q(s_t,a_t) \\leftarrow (1-\\alpha)Q(s_t,a_t) + \\alpha (r_t + \\max_a \\gamma Q(s_{t+1},a))$$\n",
    "\n",
    "where $\\alpha \\in (0,1)$ is learning rate. The algorithm is shown to converge in tabular cases. However, in cases where we cannot keep a table for state and action, we need function approximation. Consider using neural network with parameter $\\theta$, the network takes as input state $s$ and action $a$. (*there are alternative parameterizations here*). Let $Q_\\theta(s,a)$ be the output of the network, to estimate the optimal action value function in state $s$ and take action $a$ (and follow optimal policy thereafter). \n",
    "\n",
    "$$Q_\\theta(s,a) \\approx Q^\\ast(s,a)$$"
   ]
  },
  {
   "cell_type": "markdown",
   "metadata": {
    "id": "P41VY29LTiZk"
   },
   "source": [
    "### Bellman optimality equation\n",
    "\n",
    "We will use Bellman optimality equation to find $\\theta$ such that the above approximation holds better. Recall that for optimal Q function $Q^\\ast(s,a)$ the following holds for all $(s,a)$\n",
    "\n",
    "$$Q^\\ast(s_t,a_t) = \\max_a \\mathbb{E}\\big[r_t + \\gamma Q^\\ast(s_{t+1},a)\\big]$$\n",
    "\n",
    "Hence a natural objective to consider is \n",
    "\n",
    "$$\\min_\\theta\\  (Q_\\theta(s_t,a_t) - \\max_a \\mathbb{E}\\big[r_t + \\gamma Q_\\theta(s_{t+1},a)\\big])^2$$\n",
    "\n",
    "Let us first build a neural network $Q_\\theta(s,a)$ as required above."
   ]
  },
  {
   "cell_type": "code",
   "execution_count": 3,
   "metadata": {
    "id": "aKonQSRKTiZl"
   },
   "outputs": [],
   "source": [
    "# define neural net Q_\\theta(s,a) as a class\n",
    "\n",
    "class Qfunction(keras.Model):\n",
    "    \n",
    "    def __init__(self, obssize, actsize, hidden_dims):\n",
    "        \"\"\"\n",
    "        obssize: dimension of state space\n",
    "        actsize: dimension of action space\n",
    "        hidden_dims: list containing output dimension of hidden layers \n",
    "        \"\"\"\n",
    "        super(Qfunction, self).__init__()\n",
    "\n",
    "        # Layer weight initializer\n",
    "        initializer = keras.initializers.RandomUniform(minval=-1., maxval=1.)\n",
    "\n",
    "        # Input Layer\n",
    "        self.input_layer = keras.layers.InputLayer(input_shape=(obssize,))\n",
    "        \n",
    "        # Hidden Layer\n",
    "        self.hidden_layers = [] #10.5\n",
    "        for hidden_dim in hidden_dims:\n",
    "            # TODO: define each hidden layers\n",
    "            layer = keras.layers.Dense(hidden_dim, activation='relu',\n",
    "                                      kernel_initializer=initializer)\n",
    "            \n",
    "            self.hidden_layers.append(layer)\n",
    "            \n",
    "            \n",
    "            \n",
    "        \n",
    "        # Output Layer : \n",
    "        # TODO: Define the output layer.\n",
    "        self.output_layer = keras.layers.Dense(actsize) \n",
    "    \n",
    "    @tf.function\n",
    "    def call(self, states):\n",
    "        ########################################################################\n",
    "        # TODO: You SHOULD implement the model's forward pass\n",
    "        x = self.input_layer(states)\n",
    "        for i, layer in enumerate(self.hidden_layers):\n",
    "            x = self.hidden_layers[i](x)\n",
    "        q_value = self.output_layer(x)\n",
    "\n",
    "        return q_value\n",
    "        ########################################################################\n"
   ]
  },
  {
   "cell_type": "code",
   "execution_count": 4,
   "metadata": {
    "id": "SfiuGhwo3Jdg"
   },
   "outputs": [],
   "source": [
    "# Wrapper class for training Qfunction and updating weights (target network) \n",
    "\n",
    "class DQN(object):\n",
    "    \n",
    "    def __init__(self, obssize, actsize, hidden_dims, optimizer):\n",
    "        \"\"\"\n",
    "        obssize: dimension of state space\n",
    "        actsize: dimension of action space\n",
    "        optimizer: \n",
    "        \"\"\"\n",
    "        self.qfunction = Qfunction(obssize, actsize, hidden_dims)\n",
    "        self.optimizer = optimizer\n",
    "        self.obssize = obssize\n",
    "        self.actsize = actsize\n",
    "\n",
    "    def _predict_q(self, states, actions):\n",
    "        \"\"\"\n",
    "        states represent s_t\n",
    "        actions represent a_t\n",
    "        \"\"\"\n",
    "        ########################################################################\n",
    "        # TODO: Define the logic for calculate  Q_\\theta(s,a\n",
    "        q_values = self.compute_Qvalues(states)\n",
    "        q_values_about_actions = tf.gather(q_values, actions.reshape(-1, 1), axis=1, batch_dims=1)\n",
    "        return q_values_about_actions\n",
    "        ########################################################################\n",
    "        \n",
    "\n",
    "    def _loss(self, Qpreds, targets):\n",
    "        \"\"\"\n",
    "        Qpreds represent Q_\\theta(s,a)\n",
    "        targets represent the terms E[r+gamma Q] in Bellman equations\n",
    "\n",
    "        This function is OBJECTIVE function\n",
    "        \"\"\"\n",
    "        return tf.math.reduce_mean(tf.square(Qpreds - targets))\n",
    "\n",
    "    \n",
    "    def compute_Qvalues(self, states):\n",
    "        \"\"\"\n",
    "        states: numpy array as input to the neural net, states should have\n",
    "        size [numsamples, obssize], where numsamples is the number of samples\n",
    "        output: Q values for these states. The output should have size \n",
    "        [numsamples, actsize] as numpy array\n",
    "        \"\"\"\n",
    "        inputs = np.atleast_2d(states.astype('float32'))\n",
    "        return self.qfunction(inputs)\n",
    "\n",
    "\n",
    "    def train(self, states, actions, targets):\n",
    "        \"\"\"\n",
    "        states: numpy array as input to compute loss (s)\n",
    "        actions: numpy array as input to compute loss (a)\n",
    "        targets: numpy array as input to compute loss (Q targets)\n",
    "        \"\"\"\n",
    "        with tf.GradientTape() as tape:\n",
    "            Qpreds = self._predict_q(states, actions)\n",
    "            loss = self._loss(Qpreds, targets)\n",
    "        variables = self.qfunction.trainable_variables\n",
    "        gradients = tape.gradient(loss, variables)\n",
    "        self.optimizer.apply_gradients(zip(gradients, variables))\n",
    "        return loss\n",
    "\n",
    "    def update_weights(self, from_network):\n",
    "        \"\"\"\n",
    "        We need a subroutine to update target network \n",
    "        i.e. to copy from principal network to target network. \n",
    "        This function is for copying  𝜃←𝜃target \n",
    "        \"\"\"\n",
    "        \n",
    "        from_var = from_network.qfunction.trainable_variables\n",
    "        to_var = self.qfunction.trainable_variables\n",
    "        \n",
    "        for v1, v2 in zip(from_var, to_var):\n",
    "            v2.assign(v1)"
   ]
  },
  {
   "cell_type": "markdown",
   "metadata": {
    "id": "QYpgktSQTiZl"
   },
   "source": [
    "Now that we have $Q_\\theta(s,a)$ we can execute policies in the environment as follows ($\\epsilon-$greedy)."
   ]
  },
  {
   "cell_type": "code",
   "execution_count": 5,
   "metadata": {
    "id": "YVmqzhs0TiZm"
   },
   "outputs": [],
   "source": [
    "# # just pseudocode\n",
    "# # Please comment out this cell when implementing the code\n",
    "# raise ValueError(\"cannot attemp to run pseudocode\")\n",
    "\n",
    "# env = gym.make('CartPole-v0')\n",
    "# epsilon = .1\n",
    "\n",
    "# obs = env.reset()\n",
    "# done = False\n",
    "# rewardsum = 0\n",
    "\n",
    "# while not done:\n",
    "#     if np.random.rand() < epsilon:\n",
    "#         action = env.action_space.sample()\n",
    "#     else:\n",
    "#         Q = DQN.compute_Qvalues(obs)\n",
    "#         action = np.argmax(Q)  # need some tweeking of code here\n",
    "    \n",
    "#     obs, reward, done, info = env.step(action)\n",
    "#     rewardsum += reward\n",
    "    \n",
    "# print(\"reward under current policy %f \".format(rewardsum)) "
   ]
  },
  {
   "cell_type": "markdown",
   "metadata": {
    "id": "O5Fx_1UmTiZm"
   },
   "source": [
    "We can hence collect a bunch of samples $(s_t,a_t,r_t,s_{t+1})$, and compute the targets using the current network. Let the target be $d_i$ as the $i$th target\n",
    "\n",
    "$$d_i = \\max_a r_t + \\gamma Q_\\theta(s_{t+1},a)$$\n",
    "\n",
    "And then feed this value into the computational graph and minimize the Bellman error loss. This procedure has been shown to be fairly unstable. The reference paper has offered two techniques to stabilize the training process: target network and replay buffer.\n",
    "\n",
    "**Replay Buffer**\n",
    "Maintain a buffer $R$ to store trainsition tuples $(s_t,a_t,r_t,s_{t+1})$, when we minimize the Bellman error. When optimizing the Bellman error loss, we sample batches from the replay buffer and compute gradients for update on these batches. In particular, in each update, we sample $N$ tuples from buffer $(s_t,a_t,r_t,s_{t+1}) \\sim R$ and then compute\n",
    "loss \n",
    "\n",
    "$$\\frac{1}{N} \\sum_{i=1}^N (Q_\\theta(s_i,a_i) - \\max_a (r_i + \\gamma Q_\\theta(s_i^\\prime,a))^2$$\n",
    "\n",
    "and update parameters using backprop.\n",
    "\n",
    "**Target Network**\n",
    "Maintain a target network in addition to the original pricipal network. The target network is just a copy of the original network but the parameters are not updated by gradients. The target network $\\theta_{\\text{target}}$ is copied from the principal network every $\\tau$ time steps. Target network is used to compute the targets for update\n",
    "\n",
    "$$d_i = \\max_a r_t + \\gamma Q_{\\theta^{-}}(s_{i}^\\prime,a)$$\n",
    "\n",
    "the targets are used in the loss function to update the principal network parameters. This slowly updated target network ensures that the targets come from a relatively stationary distribution and hence stabilize learning."
   ]
  },
  {
   "cell_type": "markdown",
   "metadata": {
    "id": "UwrViYZ2TiZn"
   },
   "source": [
    "Hence several critical parts of the complete pseudocode for DQN is as follows:\n",
    "\n",
    "**Initialization**: principal network $Q_\\theta(s,a)$, target network $Q_{\\theta^{-}}(s,a)$. Replay buffer $R = \\{\\}$ (empty). \n",
    "\n",
    "**At each time step $t$**: execute action using $\\epsilon-$greedy based on the principal network $Q_\\theta(s,a)$. To update $\\theta$: sample $N$ tuples $(s_i,a_i,r_i,s_i^\\prime) \\sim R$, compute empirical loss \n",
    "\n",
    "$$\\frac{1}{N} \\sum_{i=1}^N (Q_\\theta(s_i,a_i) - \\max_a (r_i + \\gamma Q_{\\theta^{-}}(s_i^\\prime,a))^2$$\n",
    "\n",
    "and update parameter $\\theta$ using backprop (just take one gradient step).\n",
    "\n",
    "**Update target network**: Every $\\tau$ time steps, update target network by copying $\\theta_{\\text{target}} \\leftarrow \\theta$."
   ]
  },
  {
   "cell_type": "code",
   "execution_count": 6,
   "metadata": {
    "id": "HiAwMOvRTiZn"
   },
   "outputs": [],
   "source": [
    "# Implement replay buffer\n",
    "class ReplayBuffer(object):\n",
    "    \n",
    "    def __init__(self, maxlength):\n",
    "        \"\"\"\n",
    "        maxlength: max number of tuples to store in the buffer\n",
    "        if there are more tuples than maxlength, pop out the oldest tuples\n",
    "        \"\"\"\n",
    "        self.buffer = deque()\n",
    "        self.number = 0\n",
    "        self.maxlength = maxlength\n",
    "    \n",
    "    def append(self, experience):\n",
    "        \"\"\"\n",
    "        this function implements appending new experience tuple\n",
    "        experience: a tuple of the form (s,a,r,s^\\prime)\n",
    "        \"\"\"\n",
    "        self.buffer.append(experience)\n",
    "        self.number += 1\n",
    "        if(self.number > self.maxlength):\n",
    "            self.pop()\n",
    "        \n",
    "    def pop(self):\n",
    "        \"\"\"\n",
    "        pop out the oldest tuples if self.number > self.maxlength\n",
    "        \"\"\"\n",
    "        while self.number > self.maxlength:\n",
    "            self.buffer.popleft()\n",
    "            self.number -= 1\n",
    "    \n",
    "    def sample(self, batchsize):\n",
    "        \"\"\"\n",
    "        this function samples 'batchsize' experience tuples\n",
    "        batchsize: size of the minibatch to be sampled\n",
    "        return: a list of tuples of form (s,a,r,s^\\prime)\n",
    "        \"\"\"\n",
    "        inds = np.random.choice(len(self.buffer), batchsize, replace=False)\n",
    "        return [self.buffer[idx] for idx in inds]\n",
    "        "
   ]
  },
  {
   "cell_type": "markdown",
   "metadata": {
    "id": "WIVMPznZTiZo"
   },
   "source": [
    "Now that we have all the ingredients for DQN, we can write the main procedure to train DQN on a given environment. The implementation is straightforward if you follow the pseudocode. Refer to the pseudocode pdf for details."
   ]
  },
  {
   "cell_type": "code",
   "execution_count": 7,
   "metadata": {
    "colab": {
     "base_uri": "https://localhost:8080/"
    },
    "executionInfo": {
     "elapsed": 5626382,
     "status": "ok",
     "timestamp": 1651219040495,
     "user": {
      "displayName": "­황태현",
      "userId": "08611587733822633308"
     },
     "user_tz": -540
    },
    "id": "c1eHVbfBTiZp",
    "outputId": "84613f7b-150d-404c-c14a-f7b1fe7a39d7"
   },
   "outputs": [
    {
     "name": "stderr",
     "output_type": "stream",
     "text": [
      "2022-06-01 00:51:59.905301: E tensorflow/stream_executor/cuda/cuda_driver.cc:271] failed call to cuInit: CUDA_ERROR_COMPAT_NOT_SUPPORTED_ON_DEVICE: forward compatibility was attempted on non supported HW\n",
      "2022-06-01 00:51:59.905344: I tensorflow/stream_executor/cuda/cuda_diagnostics.cc:169] retrieving CUDA diagnostic information for host: iron\n",
      "2022-06-01 00:51:59.905352: I tensorflow/stream_executor/cuda/cuda_diagnostics.cc:176] hostname: iron\n",
      "2022-06-01 00:51:59.905440: I tensorflow/stream_executor/cuda/cuda_diagnostics.cc:200] libcuda reported version is: 510.73.5\n",
      "2022-06-01 00:51:59.905462: I tensorflow/stream_executor/cuda/cuda_diagnostics.cc:204] kernel reported version is: 510.47.3\n",
      "2022-06-01 00:51:59.905468: E tensorflow/stream_executor/cuda/cuda_diagnostics.cc:313] kernel version 510.47.3 does not match DSO version 510.73.5 -- cannot find working devices in this configuration\n",
      "2022-06-01 00:51:59.905937: I tensorflow/core/platform/cpu_feature_guard.cc:151] This TensorFlow binary is optimized with oneAPI Deep Neural Network Library (oneDNN) to use the following CPU instructions in performance-critical operations:  AVX2 FMA\n",
      "To enable them in other operations, rebuild TensorFlow with the appropriate compiler flags.\n"
     ]
    },
    {
     "name": "stdout",
     "output_type": "stream",
     "text": [
      "iteration 0 ave reward 29.0\n",
      "iteration 10 ave reward 25.7\n",
      "iteration 20 ave reward 17.0\n",
      "iteration 30 ave reward 23.9\n",
      "iteration 40 ave reward 21.3\n",
      "iteration 50 ave reward 16.0\n",
      "iteration 60 ave reward 18.3\n",
      "iteration 70 ave reward 17.0\n",
      "iteration 80 ave reward 13.5\n",
      "iteration 90 ave reward 12.7\n",
      "iteration 100 ave reward 17.4\n",
      "iteration 110 ave reward 18.7\n",
      "iteration 120 ave reward 24.2\n",
      "iteration 130 ave reward 28.9\n",
      "iteration 140 ave reward 27.2\n",
      "iteration 150 ave reward 30.3\n",
      "iteration 160 ave reward 31.3\n",
      "iteration 170 ave reward 33.5\n",
      "iteration 180 ave reward 32.6\n",
      "iteration 190 ave reward 34.8\n",
      "iteration 200 ave reward 48.1\n",
      "iteration 210 ave reward 52.7\n",
      "iteration 220 ave reward 56.2\n",
      "iteration 230 ave reward 91.0\n",
      "iteration 240 ave reward 105.1\n",
      "iteration 250 ave reward 113.5\n",
      "iteration 260 ave reward 131.4\n",
      "iteration 270 ave reward 95.6\n",
      "iteration 280 ave reward 45.2\n",
      "iteration 290 ave reward 145.4\n",
      "iteration 300 ave reward 183.3\n",
      "iteration 310 ave reward 138.7\n",
      "iteration 320 ave reward 180.7\n",
      "iteration 330 ave reward 183.3\n",
      "iteration 340 ave reward 182.7\n",
      "iteration 350 ave reward 166.4\n",
      "iteration 360 ave reward 169.7\n",
      "iteration 370 ave reward 169.6\n",
      "iteration 380 ave reward 171.8\n",
      "iteration 390 ave reward 177.7\n",
      "iteration 400 ave reward 190.0\n",
      "iteration 410 ave reward 193.3\n",
      "iteration 420 ave reward 185.2\n",
      "iteration 430 ave reward 194.5\n",
      "iteration 440 ave reward 191.4\n",
      "iteration 450 ave reward 200.0\n"
     ]
    },
    {
     "ename": "KeyboardInterrupt",
     "evalue": "",
     "output_type": "error",
     "traceback": [
      "\u001b[0;31m---------------------------------------------------------------------------\u001b[0m",
      "\u001b[0;31mAttributeError\u001b[0m                            Traceback (most recent call last)",
      "File \u001b[0;32m~/anaconda3/envs/22ssRL/lib/python3.10/site-packages/tensorflow/python/ops/array_ops.py:5225\u001b[0m, in \u001b[0;36mgather\u001b[0;34m(***failed resolving arguments***)\u001b[0m\n\u001b[1;32m   <a href='file:///home/jskang/anaconda3/envs/22ssRL/lib/python3.10/site-packages/tensorflow/python/ops/array_ops.py?line=5221'>5222</a>\u001b[0m \u001b[39mtry\u001b[39;00m:\n\u001b[1;32m   <a href='file:///home/jskang/anaconda3/envs/22ssRL/lib/python3.10/site-packages/tensorflow/python/ops/array_ops.py?line=5222'>5223</a>\u001b[0m   \u001b[39m# TODO(apassos) find a less bad way of detecting resource variables\u001b[39;00m\n\u001b[1;32m   <a href='file:///home/jskang/anaconda3/envs/22ssRL/lib/python3.10/site-packages/tensorflow/python/ops/array_ops.py?line=5223'>5224</a>\u001b[0m   \u001b[39m# without introducing a circular dependency.\u001b[39;00m\n\u001b[0;32m-> <a href='file:///home/jskang/anaconda3/envs/22ssRL/lib/python3.10/site-packages/tensorflow/python/ops/array_ops.py?line=5224'>5225</a>\u001b[0m   \u001b[39mreturn\u001b[39;00m params\u001b[39m.\u001b[39;49msparse_read(indices, name\u001b[39m=\u001b[39mname)\n\u001b[1;32m   <a href='file:///home/jskang/anaconda3/envs/22ssRL/lib/python3.10/site-packages/tensorflow/python/ops/array_ops.py?line=5225'>5226</a>\u001b[0m \u001b[39mexcept\u001b[39;00m \u001b[39mAttributeError\u001b[39;00m:\n",
      "File \u001b[0;32m~/anaconda3/envs/22ssRL/lib/python3.10/site-packages/tensorflow/python/framework/ops.py:513\u001b[0m, in \u001b[0;36mTensor.__getattr__\u001b[0;34m(self, name)\u001b[0m\n\u001b[1;32m    <a href='file:///home/jskang/anaconda3/envs/22ssRL/lib/python3.10/site-packages/tensorflow/python/framework/ops.py?line=507'>508</a>\u001b[0m   \u001b[39mraise\u001b[39;00m \u001b[39mAttributeError\u001b[39;00m(\u001b[39m\"\"\"\u001b[39m\n\u001b[1;32m    <a href='file:///home/jskang/anaconda3/envs/22ssRL/lib/python3.10/site-packages/tensorflow/python/framework/ops.py?line=508'>509</a>\u001b[0m \u001b[39m    \u001b[39m\u001b[39m'\u001b[39m\u001b[39m{}\u001b[39;00m\u001b[39m'\u001b[39m\u001b[39m object has no attribute \u001b[39m\u001b[39m'\u001b[39m\u001b[39m{}\u001b[39;00m\u001b[39m'\u001b[39m\u001b[39m.\u001b[39m\n\u001b[1;32m    <a href='file:///home/jskang/anaconda3/envs/22ssRL/lib/python3.10/site-packages/tensorflow/python/framework/ops.py?line=509'>510</a>\u001b[0m \u001b[39m    If you are looking for numpy-related methods, please run the following:\u001b[39m\n\u001b[1;32m    <a href='file:///home/jskang/anaconda3/envs/22ssRL/lib/python3.10/site-packages/tensorflow/python/framework/ops.py?line=510'>511</a>\u001b[0m \u001b[39m    from tensorflow.python.ops.numpy_ops import np_config\u001b[39m\n\u001b[1;32m    <a href='file:///home/jskang/anaconda3/envs/22ssRL/lib/python3.10/site-packages/tensorflow/python/framework/ops.py?line=511'>512</a>\u001b[0m \u001b[39m    np_config.enable_numpy_behavior()\u001b[39m\u001b[39m\"\"\"\u001b[39m\u001b[39m.\u001b[39mformat(\u001b[39mtype\u001b[39m(\u001b[39mself\u001b[39m)\u001b[39m.\u001b[39m\u001b[39m__name__\u001b[39m, name))\n\u001b[0;32m--> <a href='file:///home/jskang/anaconda3/envs/22ssRL/lib/python3.10/site-packages/tensorflow/python/framework/ops.py?line=512'>513</a>\u001b[0m \u001b[39mself\u001b[39;49m\u001b[39m.\u001b[39;49m\u001b[39m__getattribute__\u001b[39;49m(name)\n",
      "\u001b[0;31mAttributeError\u001b[0m: 'tensorflow.python.framework.ops.EagerTensor' object has no attribute 'sparse_read'",
      "\nDuring handling of the above exception, another exception occurred:\n",
      "\u001b[0;31mKeyboardInterrupt\u001b[0m                         Traceback (most recent call last)",
      "\u001b[1;32m/home/jskang/rl/course22_rl_finalproject/refers/Lab 3.ipynb Cell 13'\u001b[0m in \u001b[0;36m<cell line: 38>\u001b[0;34m()\u001b[0m\n\u001b[1;32m     <a href='vscode-notebook-cell://ssh-remote%2B147.46.216.63/home/jskang/rl/course22_rl_finalproject/refers/Lab%203.ipynb#ch0000012vscode-remote?line=62'>63</a>\u001b[0m tmp \u001b[39m=\u001b[39m np\u001b[39m.\u001b[39mmax(tmp,axis\u001b[39m=\u001b[39m\u001b[39m1\u001b[39m)\u001b[39m*\u001b[39m(\u001b[39m1\u001b[39m\u001b[39m-\u001b[39mcurr_done)\n\u001b[1;32m     <a href='vscode-notebook-cell://ssh-remote%2B147.46.216.63/home/jskang/rl/course22_rl_finalproject/refers/Lab%203.ipynb#ch0000012vscode-remote?line=63'>64</a>\u001b[0m target_d \u001b[39m=\u001b[39m np\u001b[39m.\u001b[39mexpand_dims(curr_rew\u001b[39m+\u001b[39mtmp\u001b[39m*\u001b[39mgamma,axis\u001b[39m=\u001b[39m\u001b[39m1\u001b[39m)\n\u001b[0;32m---> <a href='vscode-notebook-cell://ssh-remote%2B147.46.216.63/home/jskang/rl/course22_rl_finalproject/refers/Lab%203.ipynb#ch0000012vscode-remote?line=64'>65</a>\u001b[0m loss \u001b[39m=\u001b[39m Qprincipal\u001b[39m.\u001b[39;49mtrain(curr_obs,curr_act,target_d)\n\u001b[1;32m     <a href='vscode-notebook-cell://ssh-remote%2B147.46.216.63/home/jskang/rl/course22_rl_finalproject/refers/Lab%203.ipynb#ch0000012vscode-remote?line=66'>67</a>\u001b[0m \u001b[39mif\u001b[39;00m totalstep \u001b[39m%\u001b[39m tau \u001b[39m==\u001b[39m \u001b[39m0\u001b[39m:\n\u001b[1;32m     <a href='vscode-notebook-cell://ssh-remote%2B147.46.216.63/home/jskang/rl/course22_rl_finalproject/refers/Lab%203.ipynb#ch0000012vscode-remote?line=67'>68</a>\u001b[0m     Qtarget\u001b[39m.\u001b[39mupdate_weights(Qprincipal)\n",
      "\u001b[1;32m/home/jskang/rl/course22_rl_finalproject/refers/Lab 3.ipynb Cell 6'\u001b[0m in \u001b[0;36mDQN.train\u001b[0;34m(self, states, actions, targets)\u001b[0m\n\u001b[1;32m     <a href='vscode-notebook-cell://ssh-remote%2B147.46.216.63/home/jskang/rl/course22_rl_finalproject/refers/Lab%203.ipynb#ch0000005vscode-remote?line=57'>58</a>\u001b[0m     loss \u001b[39m=\u001b[39m \u001b[39mself\u001b[39m\u001b[39m.\u001b[39m_loss(Qpreds, targets)\n\u001b[1;32m     <a href='vscode-notebook-cell://ssh-remote%2B147.46.216.63/home/jskang/rl/course22_rl_finalproject/refers/Lab%203.ipynb#ch0000005vscode-remote?line=58'>59</a>\u001b[0m variables \u001b[39m=\u001b[39m \u001b[39mself\u001b[39m\u001b[39m.\u001b[39mqfunction\u001b[39m.\u001b[39mtrainable_variables\n\u001b[0;32m---> <a href='vscode-notebook-cell://ssh-remote%2B147.46.216.63/home/jskang/rl/course22_rl_finalproject/refers/Lab%203.ipynb#ch0000005vscode-remote?line=59'>60</a>\u001b[0m gradients \u001b[39m=\u001b[39m tape\u001b[39m.\u001b[39;49mgradient(loss, variables)\n\u001b[1;32m     <a href='vscode-notebook-cell://ssh-remote%2B147.46.216.63/home/jskang/rl/course22_rl_finalproject/refers/Lab%203.ipynb#ch0000005vscode-remote?line=60'>61</a>\u001b[0m \u001b[39mself\u001b[39m\u001b[39m.\u001b[39moptimizer\u001b[39m.\u001b[39mapply_gradients(\u001b[39mzip\u001b[39m(gradients, variables))\n\u001b[1;32m     <a href='vscode-notebook-cell://ssh-remote%2B147.46.216.63/home/jskang/rl/course22_rl_finalproject/refers/Lab%203.ipynb#ch0000005vscode-remote?line=61'>62</a>\u001b[0m \u001b[39mreturn\u001b[39;00m loss\n",
      "File \u001b[0;32m~/anaconda3/envs/22ssRL/lib/python3.10/site-packages/tensorflow/python/eager/backprop.py:1081\u001b[0m, in \u001b[0;36mGradientTape.gradient\u001b[0;34m(self, target, sources, output_gradients, unconnected_gradients)\u001b[0m\n\u001b[1;32m   <a href='file:///home/jskang/anaconda3/envs/22ssRL/lib/python3.10/site-packages/tensorflow/python/eager/backprop.py?line=1076'>1077</a>\u001b[0m \u001b[39mif\u001b[39;00m output_gradients \u001b[39mis\u001b[39;00m \u001b[39mnot\u001b[39;00m \u001b[39mNone\u001b[39;00m:\n\u001b[1;32m   <a href='file:///home/jskang/anaconda3/envs/22ssRL/lib/python3.10/site-packages/tensorflow/python/eager/backprop.py?line=1077'>1078</a>\u001b[0m   output_gradients \u001b[39m=\u001b[39m [\u001b[39mNone\u001b[39;00m \u001b[39mif\u001b[39;00m x \u001b[39mis\u001b[39;00m \u001b[39mNone\u001b[39;00m \u001b[39melse\u001b[39;00m ops\u001b[39m.\u001b[39mconvert_to_tensor(x)\n\u001b[1;32m   <a href='file:///home/jskang/anaconda3/envs/22ssRL/lib/python3.10/site-packages/tensorflow/python/eager/backprop.py?line=1078'>1079</a>\u001b[0m                       \u001b[39mfor\u001b[39;00m x \u001b[39min\u001b[39;00m nest\u001b[39m.\u001b[39mflatten(output_gradients)]\n\u001b[0;32m-> <a href='file:///home/jskang/anaconda3/envs/22ssRL/lib/python3.10/site-packages/tensorflow/python/eager/backprop.py?line=1080'>1081</a>\u001b[0m flat_grad \u001b[39m=\u001b[39m imperative_grad\u001b[39m.\u001b[39;49mimperative_grad(\n\u001b[1;32m   <a href='file:///home/jskang/anaconda3/envs/22ssRL/lib/python3.10/site-packages/tensorflow/python/eager/backprop.py?line=1081'>1082</a>\u001b[0m     \u001b[39mself\u001b[39;49m\u001b[39m.\u001b[39;49m_tape,\n\u001b[1;32m   <a href='file:///home/jskang/anaconda3/envs/22ssRL/lib/python3.10/site-packages/tensorflow/python/eager/backprop.py?line=1082'>1083</a>\u001b[0m     flat_targets,\n\u001b[1;32m   <a href='file:///home/jskang/anaconda3/envs/22ssRL/lib/python3.10/site-packages/tensorflow/python/eager/backprop.py?line=1083'>1084</a>\u001b[0m     flat_sources,\n\u001b[1;32m   <a href='file:///home/jskang/anaconda3/envs/22ssRL/lib/python3.10/site-packages/tensorflow/python/eager/backprop.py?line=1084'>1085</a>\u001b[0m     output_gradients\u001b[39m=\u001b[39;49moutput_gradients,\n\u001b[1;32m   <a href='file:///home/jskang/anaconda3/envs/22ssRL/lib/python3.10/site-packages/tensorflow/python/eager/backprop.py?line=1085'>1086</a>\u001b[0m     sources_raw\u001b[39m=\u001b[39;49mflat_sources_raw,\n\u001b[1;32m   <a href='file:///home/jskang/anaconda3/envs/22ssRL/lib/python3.10/site-packages/tensorflow/python/eager/backprop.py?line=1086'>1087</a>\u001b[0m     unconnected_gradients\u001b[39m=\u001b[39;49munconnected_gradients)\n\u001b[1;32m   <a href='file:///home/jskang/anaconda3/envs/22ssRL/lib/python3.10/site-packages/tensorflow/python/eager/backprop.py?line=1088'>1089</a>\u001b[0m \u001b[39mif\u001b[39;00m \u001b[39mnot\u001b[39;00m \u001b[39mself\u001b[39m\u001b[39m.\u001b[39m_persistent:\n\u001b[1;32m   <a href='file:///home/jskang/anaconda3/envs/22ssRL/lib/python3.10/site-packages/tensorflow/python/eager/backprop.py?line=1089'>1090</a>\u001b[0m   \u001b[39m# Keep track of watched variables before setting tape to None\u001b[39;00m\n\u001b[1;32m   <a href='file:///home/jskang/anaconda3/envs/22ssRL/lib/python3.10/site-packages/tensorflow/python/eager/backprop.py?line=1090'>1091</a>\u001b[0m   \u001b[39mself\u001b[39m\u001b[39m.\u001b[39m_watched_variables \u001b[39m=\u001b[39m \u001b[39mself\u001b[39m\u001b[39m.\u001b[39m_tape\u001b[39m.\u001b[39mwatched_variables()\n",
      "File \u001b[0;32m~/anaconda3/envs/22ssRL/lib/python3.10/site-packages/tensorflow/python/eager/imperative_grad.py:67\u001b[0m, in \u001b[0;36mimperative_grad\u001b[0;34m(tape, target, sources, output_gradients, sources_raw, unconnected_gradients)\u001b[0m\n\u001b[1;32m     <a href='file:///home/jskang/anaconda3/envs/22ssRL/lib/python3.10/site-packages/tensorflow/python/eager/imperative_grad.py?line=62'>63</a>\u001b[0m \u001b[39mexcept\u001b[39;00m \u001b[39mValueError\u001b[39;00m:\n\u001b[1;32m     <a href='file:///home/jskang/anaconda3/envs/22ssRL/lib/python3.10/site-packages/tensorflow/python/eager/imperative_grad.py?line=63'>64</a>\u001b[0m   \u001b[39mraise\u001b[39;00m \u001b[39mValueError\u001b[39;00m(\n\u001b[1;32m     <a href='file:///home/jskang/anaconda3/envs/22ssRL/lib/python3.10/site-packages/tensorflow/python/eager/imperative_grad.py?line=64'>65</a>\u001b[0m       \u001b[39m\"\u001b[39m\u001b[39mUnknown value for unconnected_gradients: \u001b[39m\u001b[39m%r\u001b[39;00m\u001b[39m\"\u001b[39m \u001b[39m%\u001b[39m unconnected_gradients)\n\u001b[0;32m---> <a href='file:///home/jskang/anaconda3/envs/22ssRL/lib/python3.10/site-packages/tensorflow/python/eager/imperative_grad.py?line=66'>67</a>\u001b[0m \u001b[39mreturn\u001b[39;00m pywrap_tfe\u001b[39m.\u001b[39;49mTFE_Py_TapeGradient(\n\u001b[1;32m     <a href='file:///home/jskang/anaconda3/envs/22ssRL/lib/python3.10/site-packages/tensorflow/python/eager/imperative_grad.py?line=67'>68</a>\u001b[0m     tape\u001b[39m.\u001b[39;49m_tape,  \u001b[39m# pylint: disable=protected-access\u001b[39;49;00m\n\u001b[1;32m     <a href='file:///home/jskang/anaconda3/envs/22ssRL/lib/python3.10/site-packages/tensorflow/python/eager/imperative_grad.py?line=68'>69</a>\u001b[0m     target,\n\u001b[1;32m     <a href='file:///home/jskang/anaconda3/envs/22ssRL/lib/python3.10/site-packages/tensorflow/python/eager/imperative_grad.py?line=69'>70</a>\u001b[0m     sources,\n\u001b[1;32m     <a href='file:///home/jskang/anaconda3/envs/22ssRL/lib/python3.10/site-packages/tensorflow/python/eager/imperative_grad.py?line=70'>71</a>\u001b[0m     output_gradients,\n\u001b[1;32m     <a href='file:///home/jskang/anaconda3/envs/22ssRL/lib/python3.10/site-packages/tensorflow/python/eager/imperative_grad.py?line=71'>72</a>\u001b[0m     sources_raw,\n\u001b[1;32m     <a href='file:///home/jskang/anaconda3/envs/22ssRL/lib/python3.10/site-packages/tensorflow/python/eager/imperative_grad.py?line=72'>73</a>\u001b[0m     compat\u001b[39m.\u001b[39;49mas_str(unconnected_gradients\u001b[39m.\u001b[39;49mvalue))\n",
      "File \u001b[0;32m~/anaconda3/envs/22ssRL/lib/python3.10/site-packages/tensorflow/python/eager/backprop.py:156\u001b[0m, in \u001b[0;36m_gradient_function\u001b[0;34m(op_name, attr_tuple, num_inputs, inputs, outputs, out_grads, skip_input_indices, forward_pass_name_scope)\u001b[0m\n\u001b[1;32m    <a href='file:///home/jskang/anaconda3/envs/22ssRL/lib/python3.10/site-packages/tensorflow/python/eager/backprop.py?line=153'>154</a>\u001b[0m     gradient_name_scope \u001b[39m+\u001b[39m\u001b[39m=\u001b[39m forward_pass_name_scope \u001b[39m+\u001b[39m \u001b[39m\"\u001b[39m\u001b[39m/\u001b[39m\u001b[39m\"\u001b[39m\n\u001b[1;32m    <a href='file:///home/jskang/anaconda3/envs/22ssRL/lib/python3.10/site-packages/tensorflow/python/eager/backprop.py?line=154'>155</a>\u001b[0m   \u001b[39mwith\u001b[39;00m ops\u001b[39m.\u001b[39mname_scope(gradient_name_scope):\n\u001b[0;32m--> <a href='file:///home/jskang/anaconda3/envs/22ssRL/lib/python3.10/site-packages/tensorflow/python/eager/backprop.py?line=155'>156</a>\u001b[0m     \u001b[39mreturn\u001b[39;00m grad_fn(mock_op, \u001b[39m*\u001b[39;49mout_grads)\n\u001b[1;32m    <a href='file:///home/jskang/anaconda3/envs/22ssRL/lib/python3.10/site-packages/tensorflow/python/eager/backprop.py?line=156'>157</a>\u001b[0m \u001b[39melse\u001b[39;00m:\n\u001b[1;32m    <a href='file:///home/jskang/anaconda3/envs/22ssRL/lib/python3.10/site-packages/tensorflow/python/eager/backprop.py?line=157'>158</a>\u001b[0m   \u001b[39mreturn\u001b[39;00m grad_fn(mock_op, \u001b[39m*\u001b[39mout_grads)\n",
      "File \u001b[0;32m~/anaconda3/envs/22ssRL/lib/python3.10/site-packages/tensorflow/python/ops/array_grad.py:703\u001b[0m, in \u001b[0;36m_GatherV2Grad\u001b[0;34m(op, grad)\u001b[0m\n\u001b[1;32m    <a href='file:///home/jskang/anaconda3/envs/22ssRL/lib/python3.10/site-packages/tensorflow/python/ops/array_grad.py?line=697'>698</a>\u001b[0m transpose_dims \u001b[39m=\u001b[39m array_ops\u001b[39m.\u001b[39mconcat([\n\u001b[1;32m    <a href='file:///home/jskang/anaconda3/envs/22ssRL/lib/python3.10/site-packages/tensorflow/python/ops/array_grad.py?line=698'>699</a>\u001b[0m     outer_batches_indices, [axis_dims], batch_axis_indices,\n\u001b[1;32m    <a href='file:///home/jskang/anaconda3/envs/22ssRL/lib/python3.10/site-packages/tensorflow/python/ops/array_grad.py?line=699'>700</a>\u001b[0m     inner_axes_indices\n\u001b[1;32m    <a href='file:///home/jskang/anaconda3/envs/22ssRL/lib/python3.10/site-packages/tensorflow/python/ops/array_grad.py?line=700'>701</a>\u001b[0m ], \u001b[39m0\u001b[39m)\n\u001b[1;32m    <a href='file:///home/jskang/anaconda3/envs/22ssRL/lib/python3.10/site-packages/tensorflow/python/ops/array_grad.py?line=701'>702</a>\u001b[0m values_transpose \u001b[39m=\u001b[39m array_ops\u001b[39m.\u001b[39mtranspose(values, transpose_dims)\n\u001b[0;32m--> <a href='file:///home/jskang/anaconda3/envs/22ssRL/lib/python3.10/site-packages/tensorflow/python/ops/array_grad.py?line=702'>703</a>\u001b[0m params_shape_transpose \u001b[39m=\u001b[39m array_ops\u001b[39m.\u001b[39;49mgather(params_shape, transpose_dims)\n\u001b[1;32m    <a href='file:///home/jskang/anaconda3/envs/22ssRL/lib/python3.10/site-packages/tensorflow/python/ops/array_grad.py?line=704'>705</a>\u001b[0m params_grad \u001b[39m=\u001b[39m _BatchGatherGrad(params_shape_transpose, values_transpose,\n\u001b[1;32m    <a href='file:///home/jskang/anaconda3/envs/22ssRL/lib/python3.10/site-packages/tensorflow/python/ops/array_grad.py?line=705'>706</a>\u001b[0m                                indices, batch_dims, params_shape[axis])\n\u001b[1;32m    <a href='file:///home/jskang/anaconda3/envs/22ssRL/lib/python3.10/site-packages/tensorflow/python/ops/array_grad.py?line=707'>708</a>\u001b[0m \u001b[39m# Inverts the above transpose by moving dimension batch_dims back to its\u001b[39;00m\n\u001b[1;32m    <a href='file:///home/jskang/anaconda3/envs/22ssRL/lib/python3.10/site-packages/tensorflow/python/ops/array_grad.py?line=708'>709</a>\u001b[0m \u001b[39m# original position.\u001b[39;00m\n",
      "File \u001b[0;32m~/anaconda3/envs/22ssRL/lib/python3.10/site-packages/tensorflow/python/util/traceback_utils.py:150\u001b[0m, in \u001b[0;36mfilter_traceback.<locals>.error_handler\u001b[0;34m(*args, **kwargs)\u001b[0m\n\u001b[1;32m    <a href='file:///home/jskang/anaconda3/envs/22ssRL/lib/python3.10/site-packages/tensorflow/python/util/traceback_utils.py?line=147'>148</a>\u001b[0m filtered_tb \u001b[39m=\u001b[39m \u001b[39mNone\u001b[39;00m\n\u001b[1;32m    <a href='file:///home/jskang/anaconda3/envs/22ssRL/lib/python3.10/site-packages/tensorflow/python/util/traceback_utils.py?line=148'>149</a>\u001b[0m \u001b[39mtry\u001b[39;00m:\n\u001b[0;32m--> <a href='file:///home/jskang/anaconda3/envs/22ssRL/lib/python3.10/site-packages/tensorflow/python/util/traceback_utils.py?line=149'>150</a>\u001b[0m   \u001b[39mreturn\u001b[39;00m fn(\u001b[39m*\u001b[39;49margs, \u001b[39m*\u001b[39;49m\u001b[39m*\u001b[39;49mkwargs)\n\u001b[1;32m    <a href='file:///home/jskang/anaconda3/envs/22ssRL/lib/python3.10/site-packages/tensorflow/python/util/traceback_utils.py?line=150'>151</a>\u001b[0m \u001b[39mexcept\u001b[39;00m \u001b[39mException\u001b[39;00m \u001b[39mas\u001b[39;00m e:\n\u001b[1;32m    <a href='file:///home/jskang/anaconda3/envs/22ssRL/lib/python3.10/site-packages/tensorflow/python/util/traceback_utils.py?line=151'>152</a>\u001b[0m   filtered_tb \u001b[39m=\u001b[39m _process_traceback_frames(e\u001b[39m.\u001b[39m__traceback__)\n",
      "File \u001b[0;32m~/anaconda3/envs/22ssRL/lib/python3.10/site-packages/tensorflow/python/util/dispatch.py:1082\u001b[0m, in \u001b[0;36madd_dispatch_support.<locals>.decorator.<locals>.op_dispatch_handler\u001b[0;34m(*args, **kwargs)\u001b[0m\n\u001b[1;32m   <a href='file:///home/jskang/anaconda3/envs/22ssRL/lib/python3.10/site-packages/tensorflow/python/util/dispatch.py?line=1079'>1080</a>\u001b[0m \u001b[39m# Fallback dispatch system (dispatch v1):\u001b[39;00m\n\u001b[1;32m   <a href='file:///home/jskang/anaconda3/envs/22ssRL/lib/python3.10/site-packages/tensorflow/python/util/dispatch.py?line=1080'>1081</a>\u001b[0m \u001b[39mtry\u001b[39;00m:\n\u001b[0;32m-> <a href='file:///home/jskang/anaconda3/envs/22ssRL/lib/python3.10/site-packages/tensorflow/python/util/dispatch.py?line=1081'>1082</a>\u001b[0m   \u001b[39mreturn\u001b[39;00m dispatch_target(\u001b[39m*\u001b[39;49margs, \u001b[39m*\u001b[39;49m\u001b[39m*\u001b[39;49mkwargs)\n\u001b[1;32m   <a href='file:///home/jskang/anaconda3/envs/22ssRL/lib/python3.10/site-packages/tensorflow/python/util/dispatch.py?line=1082'>1083</a>\u001b[0m \u001b[39mexcept\u001b[39;00m (\u001b[39mTypeError\u001b[39;00m, \u001b[39mValueError\u001b[39;00m):\n\u001b[1;32m   <a href='file:///home/jskang/anaconda3/envs/22ssRL/lib/python3.10/site-packages/tensorflow/python/util/dispatch.py?line=1083'>1084</a>\u001b[0m   \u001b[39m# Note: convert_to_eager_tensor currently raises a ValueError, not a\u001b[39;00m\n\u001b[1;32m   <a href='file:///home/jskang/anaconda3/envs/22ssRL/lib/python3.10/site-packages/tensorflow/python/util/dispatch.py?line=1084'>1085</a>\u001b[0m   \u001b[39m# TypeError, when given unexpected types.  So we need to catch both.\u001b[39;00m\n\u001b[1;32m   <a href='file:///home/jskang/anaconda3/envs/22ssRL/lib/python3.10/site-packages/tensorflow/python/util/dispatch.py?line=1085'>1086</a>\u001b[0m   result \u001b[39m=\u001b[39m dispatch(op_dispatch_handler, args, kwargs)\n",
      "File \u001b[0;32m~/anaconda3/envs/22ssRL/lib/python3.10/site-packages/tensorflow/python/util/deprecation.py:548\u001b[0m, in \u001b[0;36mdeprecated_args.<locals>.deprecated_wrapper.<locals>.new_func\u001b[0;34m(*args, **kwargs)\u001b[0m\n\u001b[1;32m    <a href='file:///home/jskang/anaconda3/envs/22ssRL/lib/python3.10/site-packages/tensorflow/python/util/deprecation.py?line=539'>540</a>\u001b[0m         _PRINTED_WARNING[(func, arg_name)] \u001b[39m=\u001b[39m \u001b[39mTrue\u001b[39;00m\n\u001b[1;32m    <a href='file:///home/jskang/anaconda3/envs/22ssRL/lib/python3.10/site-packages/tensorflow/python/util/deprecation.py?line=540'>541</a>\u001b[0m       logging\u001b[39m.\u001b[39mwarning(\n\u001b[1;32m    <a href='file:///home/jskang/anaconda3/envs/22ssRL/lib/python3.10/site-packages/tensorflow/python/util/deprecation.py?line=541'>542</a>\u001b[0m           \u001b[39m'\u001b[39m\u001b[39mFrom \u001b[39m\u001b[39m%s\u001b[39;00m\u001b[39m: calling \u001b[39m\u001b[39m%s\u001b[39;00m\u001b[39m (from \u001b[39m\u001b[39m%s\u001b[39;00m\u001b[39m) with \u001b[39m\u001b[39m%s\u001b[39;00m\u001b[39m is deprecated and will \u001b[39m\u001b[39m'\u001b[39m\n\u001b[1;32m    <a href='file:///home/jskang/anaconda3/envs/22ssRL/lib/python3.10/site-packages/tensorflow/python/util/deprecation.py?line=542'>543</a>\u001b[0m           \u001b[39m'\u001b[39m\u001b[39mbe removed \u001b[39m\u001b[39m%s\u001b[39;00m\u001b[39m.\u001b[39m\u001b[39m\\n\u001b[39;00m\u001b[39mInstructions for updating:\u001b[39m\u001b[39m\\n\u001b[39;00m\u001b[39m%s\u001b[39;00m\u001b[39m'\u001b[39m,\n\u001b[0;32m   (...)\u001b[0m\n\u001b[1;32m    <a href='file:///home/jskang/anaconda3/envs/22ssRL/lib/python3.10/site-packages/tensorflow/python/util/deprecation.py?line=545'>546</a>\u001b[0m           \u001b[39m'\u001b[39m\u001b[39min a future version\u001b[39m\u001b[39m'\u001b[39m \u001b[39mif\u001b[39;00m date \u001b[39mis\u001b[39;00m \u001b[39mNone\u001b[39;00m \u001b[39melse\u001b[39;00m (\u001b[39m'\u001b[39m\u001b[39mafter \u001b[39m\u001b[39m%s\u001b[39;00m\u001b[39m'\u001b[39m \u001b[39m%\u001b[39m date),\n\u001b[1;32m    <a href='file:///home/jskang/anaconda3/envs/22ssRL/lib/python3.10/site-packages/tensorflow/python/util/deprecation.py?line=546'>547</a>\u001b[0m           instructions)\n\u001b[0;32m--> <a href='file:///home/jskang/anaconda3/envs/22ssRL/lib/python3.10/site-packages/tensorflow/python/util/deprecation.py?line=547'>548</a>\u001b[0m \u001b[39mreturn\u001b[39;00m func(\u001b[39m*\u001b[39;49margs, \u001b[39m*\u001b[39;49m\u001b[39m*\u001b[39;49mkwargs)\n",
      "File \u001b[0;32m~/anaconda3/envs/22ssRL/lib/python3.10/site-packages/tensorflow/python/ops/array_ops.py:5227\u001b[0m, in \u001b[0;36mgather\u001b[0;34m(***failed resolving arguments***)\u001b[0m\n\u001b[1;32m   <a href='file:///home/jskang/anaconda3/envs/22ssRL/lib/python3.10/site-packages/tensorflow/python/ops/array_ops.py?line=5224'>5225</a>\u001b[0m   \u001b[39mreturn\u001b[39;00m params\u001b[39m.\u001b[39msparse_read(indices, name\u001b[39m=\u001b[39mname)\n\u001b[1;32m   <a href='file:///home/jskang/anaconda3/envs/22ssRL/lib/python3.10/site-packages/tensorflow/python/ops/array_ops.py?line=5225'>5226</a>\u001b[0m \u001b[39mexcept\u001b[39;00m \u001b[39mAttributeError\u001b[39;00m:\n\u001b[0;32m-> <a href='file:///home/jskang/anaconda3/envs/22ssRL/lib/python3.10/site-packages/tensorflow/python/ops/array_ops.py?line=5226'>5227</a>\u001b[0m   \u001b[39mreturn\u001b[39;00m gen_array_ops\u001b[39m.\u001b[39;49mgather_v2(params, indices, axis, name\u001b[39m=\u001b[39;49mname)\n",
      "File \u001b[0;32m~/anaconda3/envs/22ssRL/lib/python3.10/site-packages/tensorflow/python/ops/gen_array_ops.py:3935\u001b[0m, in \u001b[0;36mgather_v2\u001b[0;34m(params, indices, axis, batch_dims, name)\u001b[0m\n\u001b[1;32m   <a href='file:///home/jskang/anaconda3/envs/22ssRL/lib/python3.10/site-packages/tensorflow/python/ops/gen_array_ops.py?line=3932'>3933</a>\u001b[0m \u001b[39mif\u001b[39;00m tld\u001b[39m.\u001b[39mis_eager:\n\u001b[1;32m   <a href='file:///home/jskang/anaconda3/envs/22ssRL/lib/python3.10/site-packages/tensorflow/python/ops/gen_array_ops.py?line=3933'>3934</a>\u001b[0m   \u001b[39mtry\u001b[39;00m:\n\u001b[0;32m-> <a href='file:///home/jskang/anaconda3/envs/22ssRL/lib/python3.10/site-packages/tensorflow/python/ops/gen_array_ops.py?line=3934'>3935</a>\u001b[0m     _result \u001b[39m=\u001b[39m pywrap_tfe\u001b[39m.\u001b[39;49mTFE_Py_FastPathExecute(\n\u001b[1;32m   <a href='file:///home/jskang/anaconda3/envs/22ssRL/lib/python3.10/site-packages/tensorflow/python/ops/gen_array_ops.py?line=3935'>3936</a>\u001b[0m       _ctx, \u001b[39m\"\u001b[39;49m\u001b[39mGatherV2\u001b[39;49m\u001b[39m\"\u001b[39;49m, name, params, indices, axis, \u001b[39m\"\u001b[39;49m\u001b[39mbatch_dims\u001b[39;49m\u001b[39m\"\u001b[39;49m,\n\u001b[1;32m   <a href='file:///home/jskang/anaconda3/envs/22ssRL/lib/python3.10/site-packages/tensorflow/python/ops/gen_array_ops.py?line=3936'>3937</a>\u001b[0m       batch_dims)\n\u001b[1;32m   <a href='file:///home/jskang/anaconda3/envs/22ssRL/lib/python3.10/site-packages/tensorflow/python/ops/gen_array_ops.py?line=3937'>3938</a>\u001b[0m     \u001b[39mreturn\u001b[39;00m _result\n\u001b[1;32m   <a href='file:///home/jskang/anaconda3/envs/22ssRL/lib/python3.10/site-packages/tensorflow/python/ops/gen_array_ops.py?line=3938'>3939</a>\u001b[0m   \u001b[39mexcept\u001b[39;00m _core\u001b[39m.\u001b[39m_NotOkStatusException \u001b[39mas\u001b[39;00m e:\n",
      "\u001b[0;31mKeyboardInterrupt\u001b[0m: "
     ]
    }
   ],
   "source": [
    "################################################################################\n",
    "# TODO: Set the required parameters. All parameters can be tuned by yourself.\n",
    "lr = 5e-4  # learning rate for gradient update \n",
    "batchsize = 64  # batchsize for buffer sampling\n",
    "maxlength = 10000  # max number of tuples held by buffer\n",
    "envname = \"CartPole-v0\"  # environment name\n",
    "tau = 100  # time steps for target update\n",
    "episodes = 3000  # number of episodes to run\n",
    "initialize = 500  # initial time steps before start updating\n",
    "epsilon = 1  # constant for exploration\n",
    "epsilon_decay = .995\n",
    "gamma = .999  # discount\n",
    "hidden_dims=[10, 5] # hidden dimensions\n",
    "################################################################################\n",
    "\n",
    "# initialize environment\n",
    "env = gym.make(envname)\n",
    "obssize = env.observation_space.low.size\n",
    "actsize = env.action_space.n\n",
    "\n",
    "# optimizer\n",
    "optimizer = keras.optimizers.Adam(learning_rate=lr)\n",
    "\n",
    "# initialize networks\n",
    "Qprincipal = DQN(obssize, actsize, hidden_dims, optimizer)\n",
    "Qtarget = DQN(obssize, actsize, hidden_dims, optimizer)\n",
    "\n",
    "# initialization of buffer\n",
    "buffer = ReplayBuffer(maxlength)\n",
    "\n",
    "################################################################################\n",
    "# TODO: Complete the main iteration\n",
    "# CartPole-v0 defines \"solving\" as getting average reward of 195.0 over 100 consecutive trials.\n",
    "\n",
    "rrecord = []\n",
    "totalstep = 0\n",
    "Qtarget.update_weights(Qprincipal)\n",
    "for ite in range(episodes):\n",
    "\n",
    "    obs = env.reset()\n",
    "    done = False\n",
    "    rsum = 0\n",
    "\n",
    "    while not done:\n",
    "        totalstep +=1\n",
    "        if np.random.rand()<epsilon:\n",
    "            action= env.action_space.sample()\n",
    "        else :\n",
    "            action = np.argmax(Qprincipal.compute_Qvalues(obs))\n",
    "\n",
    "        next_obs,reward,done,info = env.step(action)\n",
    "        rsum += reward\n",
    "        experience = (obs,action,reward,next_obs,done)\n",
    "        buffer.append(experience)\n",
    "        if totalstep>initialize:\n",
    "            samples = buffer.sample(batchsize)\n",
    "            curr_obs = np.stack([sample[0] for sample in samples])\n",
    "            curr_act = np.expand_dims(np.stack([sample[1] for sample in samples]), axis = 1)\n",
    "            curr_rew = np.stack([sample[2] for sample in samples])\n",
    "            curr_nobs = np.stack([sample[3] for sample in samples])\n",
    "            curr_done = np.stack([sample[4] for sample in samples])\n",
    "            tmp = Qtarget.compute_Qvalues(curr_nobs)\n",
    "            tmp = np.max(tmp,axis=1)*(1-curr_done)\n",
    "            target_d = np.expand_dims(curr_rew+tmp*gamma,axis=1)\n",
    "            loss = Qprincipal.train(curr_obs,curr_act,target_d)\n",
    "            \n",
    "            if totalstep % tau == 0:\n",
    "                Qtarget.update_weights(Qprincipal)\n",
    "        obs = next_obs\n",
    "            \n",
    "    epsilon *= epsilon_decay\n",
    "            \n",
    "\n",
    "\n",
    "################################################################################\n",
    "\n",
    "    ## DO NOT CHANGE THIS PART!\n",
    "    rrecord.append(rsum)\n",
    "    if ite % 10 == 0:\n",
    "        print('iteration {} ave reward {}'.format(ite, np.mean(rrecord[-10:])))\n",
    "    \n",
    "    ave100 = np.mean(rrecord[-100:])   \n",
    "    if  ave100 > 195.0:\n",
    "        print(\"Solved after %d episodes.\"%ite)\n",
    "        break"
   ]
  },
  {
   "cell_type": "code",
   "execution_count": 9,
   "metadata": {},
   "outputs": [
    {
     "name": "stdout",
     "output_type": "stream",
     "text": [
      "4\n"
     ]
    }
   ],
   "source": [
    "print(obssize)"
   ]
  },
  {
   "cell_type": "code",
   "execution_count": 8,
   "metadata": {
    "colab": {
     "base_uri": "https://localhost:8080/",
     "height": 295
    },
    "executionInfo": {
     "elapsed": 1065,
     "status": "ok",
     "timestamp": 1651219115528,
     "user": {
      "displayName": "­황태현",
      "userId": "08611587733822633308"
     },
     "user_tz": -540
    },
    "id": "D6UUdjTyxjsr",
    "outputId": "4956f9dc-9427-4f88-a708-5139075e645f"
   },
   "outputs": [
    {
     "data": {
      "image/png": "[encoded data removed]",
      "text/plain": [
       "<Figure size 432x288 with 1 Axes>"
      ]
     },
     "metadata": {
      "needs_background": "light"
     },
     "output_type": "display_data"
    }
   ],
   "source": [
    "# plot [episode, reward] history\n",
    "x = [i+1 for i in range(len(rrecord))]\n",
    "plt.plot(x, rrecord)\n",
    "plt.title('episode rewards')\n",
    "plt.xlabel('episodes')\n",
    "plt.ylabel('rewards')\n",
    "plt.show()"
   ]
  },
  {
   "cell_type": "markdown",
   "metadata": {
    "id": "nRf96xABTiZp"
   },
   "source": [
    "Once you run the code, save the notebook file of name \"Lab 3_your name.ipynb\" and submit on eTL.\n",
    "\n",
    "# Do NOT submit as zip files."
   ]
  },
  {
   "cell_type": "code",
   "execution_count": null,
   "metadata": {},
   "outputs": [],
   "source": []
  },
  {
   "cell_type": "code",
   "execution_count": null,
   "metadata": {},
   "outputs": [],
   "source": []
  },
  {
   "cell_type": "code",
   "execution_count": null,
   "metadata": {},
   "outputs": [],
   "source": []
  },
  {
   "cell_type": "code",
   "execution_count": null,
   "metadata": {},
   "outputs": [],
   "source": []
  },
  {
   "cell_type": "code",
   "execution_count": null,
   "metadata": {},
   "outputs": [],
   "source": []
  }
 ],
 "metadata": {
  "accelerator": "GPU",
  "colab": {
   "collapsed_sections": [],
   "name": "Lab 3.ipynb",
   "provenance": []
  },
  "interpreter": {
   "hash": "aa2941fd6a004b9d9902444670c187a10fdb10a42d51d79761b94b520ec76d91"
  },
  "kernelspec": {
   "display_name": "Python 3.10.4 ('22ssRL')",
   "language": "python",
   "name": "python3"
  },
  "language_info": {
   "codemirror_mode": {
    "name": "ipython",
    "version": 3
   },
   "file_extension": ".py",
   "mimetype": "text/x-python",
   "name": "python",
   "nbconvert_exporter": "python",
   "pygments_lexer": "ipython3",
   "version": "3.10.4"
  }
 },
 "nbformat": 4,
 "nbformat_minor": 1
}
