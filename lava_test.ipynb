{
 "cells": [
  {
   "cell_type": "code",
   "execution_count": 2,
   "metadata": {},
   "outputs": [
    {
     "data": {
      "text/plain": [
       "'\\n\\nimport gym\\nfrom lava_grid import ZigZag6x10\\nfrom agent_lava import agent\\nimport random\\n# default setting\\nmax_steps = 100\\nstochasticity = 0 # probability of the selected action failing and instead executing any of the remaining 3\\nno_render = True\\n\\nenv = ZigZag6x10(max_steps=max_steps, act_fail_prob=stochasticity, goal=(5, 9), numpy_state=False)\\ns = env.reset()\\ndone = False\\ncum_reward = 0.0\\n\\n\"\"\" Your agent\"\"\"\\nagent = agent()\\n\\n# moving costs -0.01, falling in lava -1, reaching goal +1\\n# final reward is number_of_steps / max_steps\\nwhile not done:\\n    action = agent.action()\\n    action = random.randrange(4)#: random actions\\n    ns, reward, done, _ = env.step(action)\\n    cum_reward += reward\\nprint(f\"total reward: {cum_reward}\")\\n\\n'"
      ]
     },
     "execution_count": 2,
     "metadata": {},
     "output_type": "execute_result"
    }
   ],
   "source": [
    "'''\n",
    "\n",
    "import gym\n",
    "from lava_grid import ZigZag6x10\n",
    "from agent_lava import agent\n",
    "import random\n",
    "# default setting\n",
    "max_steps = 100\n",
    "stochasticity = 0 # probability of the selected action failing and instead executing any of the remaining 3\n",
    "no_render = True\n",
    "\n",
    "env = ZigZag6x10(max_steps=max_steps, act_fail_prob=stochasticity, goal=(5, 9), numpy_state=False)\n",
    "s = env.reset()\n",
    "done = False\n",
    "cum_reward = 0.0\n",
    "\n",
    "\"\"\" Your agent\"\"\"\n",
    "agent = agent()\n",
    "\n",
    "# moving costs -0.01, falling in lava -1, reaching goal +1\n",
    "# final reward is number_of_steps / max_steps\n",
    "while not done:\n",
    "    action = agent.action()\n",
    "    action = random.randrange(4)#: random actions\n",
    "    ns, reward, done, _ = env.step(action)\n",
    "    cum_reward += reward\n",
    "print(f\"total reward: {cum_reward}\")\n",
    "\n",
    "'''\n",
    "\n"
   ]
  },
  {
   "cell_type": "code",
   "execution_count": 14,
   "metadata": {},
   "outputs": [
    {
     "name": "stdout",
     "output_type": "stream",
     "text": [
      "iteration 0 ave reward -1.01\n",
      "iteration 100 ave reward -1.0000000000000004\n"
     ]
    },
    {
     "ename": "KeyboardInterrupt",
     "evalue": "",
     "output_type": "error",
     "traceback": [
      "\u001b[0;31m---------------------------------------------------------------------------\u001b[0m",
      "\u001b[0;31mKeyboardInterrupt\u001b[0m                         Traceback (most recent call last)",
      "\u001b[1;32m/home/jskang/rl/course22_rl_finalproject/lava_test.ipynb Cell 2'\u001b[0m in \u001b[0;36m<cell line: 30>\u001b[0;34m()\u001b[0m\n\u001b[1;32m     <a href='vscode-notebook-cell://ssh-remote%2B147.46.216.63/home/jskang/rl/course22_rl_finalproject/lava_test.ipynb#ch0000004vscode-remote?line=42'>43</a>\u001b[0m         agent\u001b[39m.\u001b[39mbuffer\u001b[39m.\u001b[39mappend(experience)\n\u001b[1;32m     <a href='vscode-notebook-cell://ssh-remote%2B147.46.216.63/home/jskang/rl/course22_rl_finalproject/lava_test.ipynb#ch0000004vscode-remote?line=44'>45</a>\u001b[0m         \u001b[39mif\u001b[39;00m totalstep\u001b[39m>\u001b[39minitialize:\n\u001b[0;32m---> <a href='vscode-notebook-cell://ssh-remote%2B147.46.216.63/home/jskang/rl/course22_rl_finalproject/lava_test.ipynb#ch0000004vscode-remote?line=45'>46</a>\u001b[0m             agent\u001b[39m.\u001b[39;49mtrain(totalstep)\n\u001b[1;32m     <a href='vscode-notebook-cell://ssh-remote%2B147.46.216.63/home/jskang/rl/course22_rl_finalproject/lava_test.ipynb#ch0000004vscode-remote?line=46'>47</a>\u001b[0m         obs \u001b[39m=\u001b[39m next_obs\n\u001b[1;32m     <a href='vscode-notebook-cell://ssh-remote%2B147.46.216.63/home/jskang/rl/course22_rl_finalproject/lava_test.ipynb#ch0000004vscode-remote?line=48'>49</a>\u001b[0m \u001b[39m################################################################################\u001b[39;00m\n\u001b[1;32m     <a href='vscode-notebook-cell://ssh-remote%2B147.46.216.63/home/jskang/rl/course22_rl_finalproject/lava_test.ipynb#ch0000004vscode-remote?line=49'>50</a>\u001b[0m     \u001b[39m## DO NOT CHANGE THIS PART!\u001b[39;00m\n",
      "File \u001b[0;32m~/rl/course22_rl_finalproject/agent_lava.py:65\u001b[0m, in \u001b[0;36magent.train\u001b[0;34m(self, totalstep)\u001b[0m\n\u001b[1;32m     <a href='file:///home/jskang/rl/course22_rl_finalproject/agent_lava.py?line=62'>63</a>\u001b[0m tmp \u001b[39m=\u001b[39m np\u001b[39m.\u001b[39mmax(tmp,axis\u001b[39m=\u001b[39m\u001b[39m1\u001b[39m)\u001b[39m*\u001b[39m(\u001b[39m1\u001b[39m\u001b[39m-\u001b[39mcurr_done)\n\u001b[1;32m     <a href='file:///home/jskang/rl/course22_rl_finalproject/agent_lava.py?line=63'>64</a>\u001b[0m target_d \u001b[39m=\u001b[39m np\u001b[39m.\u001b[39mexpand_dims(curr_rew\u001b[39m+\u001b[39mtmp\u001b[39m*\u001b[39m\u001b[39mself\u001b[39m\u001b[39m.\u001b[39mgamma,axis\u001b[39m=\u001b[39m\u001b[39m1\u001b[39m)\n\u001b[0;32m---> <a href='file:///home/jskang/rl/course22_rl_finalproject/agent_lava.py?line=64'>65</a>\u001b[0m loss \u001b[39m=\u001b[39m \u001b[39mself\u001b[39;49m\u001b[39m.\u001b[39;49mQprincipal\u001b[39m.\u001b[39;49mtrain(curr_obs,curr_act,target_d)\n\u001b[1;32m     <a href='file:///home/jskang/rl/course22_rl_finalproject/agent_lava.py?line=66'>67</a>\u001b[0m \u001b[39mif\u001b[39;00m totalstep \u001b[39m%\u001b[39m \u001b[39mself\u001b[39m\u001b[39m.\u001b[39mtau \u001b[39m==\u001b[39m \u001b[39m0\u001b[39m:\n\u001b[1;32m     <a href='file:///home/jskang/rl/course22_rl_finalproject/agent_lava.py?line=67'>68</a>\u001b[0m     \u001b[39mself\u001b[39m\u001b[39m.\u001b[39mQtarget\u001b[39m.\u001b[39mupdate_weights(\u001b[39mself\u001b[39m\u001b[39m.\u001b[39mQprincipal)\n",
      "File \u001b[0;32m~/rl/course22_rl_finalproject/models/dqn.py:113\u001b[0m, in \u001b[0;36mDQN.train\u001b[0;34m(self, states, actions, targets)\u001b[0m\n\u001b[1;32m    <a href='file:///home/jskang/rl/course22_rl_finalproject/models/dqn.py?line=106'>107</a>\u001b[0m \u001b[39m\"\"\"\u001b[39;00m\n\u001b[1;32m    <a href='file:///home/jskang/rl/course22_rl_finalproject/models/dqn.py?line=107'>108</a>\u001b[0m \u001b[39mstates: numpy array as input to compute loss (s)\u001b[39;00m\n\u001b[1;32m    <a href='file:///home/jskang/rl/course22_rl_finalproject/models/dqn.py?line=108'>109</a>\u001b[0m \u001b[39mactions: numpy array as input to compute loss (a)\u001b[39;00m\n\u001b[1;32m    <a href='file:///home/jskang/rl/course22_rl_finalproject/models/dqn.py?line=109'>110</a>\u001b[0m \u001b[39mtargets: numpy array as input to compute loss (Q targets)\u001b[39;00m\n\u001b[1;32m    <a href='file:///home/jskang/rl/course22_rl_finalproject/models/dqn.py?line=110'>111</a>\u001b[0m \u001b[39m\"\"\"\u001b[39;00m\n\u001b[1;32m    <a href='file:///home/jskang/rl/course22_rl_finalproject/models/dqn.py?line=111'>112</a>\u001b[0m \u001b[39mwith\u001b[39;00m tf\u001b[39m.\u001b[39mGradientTape() \u001b[39mas\u001b[39;00m tape:\n\u001b[0;32m--> <a href='file:///home/jskang/rl/course22_rl_finalproject/models/dqn.py?line=112'>113</a>\u001b[0m     Qpreds \u001b[39m=\u001b[39m \u001b[39mself\u001b[39;49m\u001b[39m.\u001b[39;49m_predict_q(states, actions)\n\u001b[1;32m    <a href='file:///home/jskang/rl/course22_rl_finalproject/models/dqn.py?line=113'>114</a>\u001b[0m     loss \u001b[39m=\u001b[39m \u001b[39mself\u001b[39m\u001b[39m.\u001b[39m_loss(Qpreds, targets)\n\u001b[1;32m    <a href='file:///home/jskang/rl/course22_rl_finalproject/models/dqn.py?line=114'>115</a>\u001b[0m variables \u001b[39m=\u001b[39m \u001b[39mself\u001b[39m\u001b[39m.\u001b[39mqfunction\u001b[39m.\u001b[39mtrainable_variables\n",
      "File \u001b[0;32m~/rl/course22_rl_finalproject/models/dqn.py:79\u001b[0m, in \u001b[0;36mDQN._predict_q\u001b[0;34m(self, states, actions)\u001b[0m\n\u001b[1;32m     <a href='file:///home/jskang/rl/course22_rl_finalproject/models/dqn.py?line=72'>73</a>\u001b[0m \u001b[39m\"\"\"\u001b[39;00m\n\u001b[1;32m     <a href='file:///home/jskang/rl/course22_rl_finalproject/models/dqn.py?line=73'>74</a>\u001b[0m \u001b[39mstates represent s_t\u001b[39;00m\n\u001b[1;32m     <a href='file:///home/jskang/rl/course22_rl_finalproject/models/dqn.py?line=74'>75</a>\u001b[0m \u001b[39mactions represent a_t\u001b[39;00m\n\u001b[1;32m     <a href='file:///home/jskang/rl/course22_rl_finalproject/models/dqn.py?line=75'>76</a>\u001b[0m \u001b[39m\"\"\"\u001b[39;00m\n\u001b[1;32m     <a href='file:///home/jskang/rl/course22_rl_finalproject/models/dqn.py?line=76'>77</a>\u001b[0m \u001b[39m########################################################################\u001b[39;00m\n\u001b[1;32m     <a href='file:///home/jskang/rl/course22_rl_finalproject/models/dqn.py?line=77'>78</a>\u001b[0m \u001b[39m# TODO: Define the logic for calculate  Q_\\theta(s,a\u001b[39;00m\n\u001b[0;32m---> <a href='file:///home/jskang/rl/course22_rl_finalproject/models/dqn.py?line=78'>79</a>\u001b[0m q_values \u001b[39m=\u001b[39m \u001b[39mself\u001b[39;49m\u001b[39m.\u001b[39;49mcompute_Qvalues(states)\n\u001b[1;32m     <a href='file:///home/jskang/rl/course22_rl_finalproject/models/dqn.py?line=79'>80</a>\u001b[0m q_values_about_actions \u001b[39m=\u001b[39m tf\u001b[39m.\u001b[39mgather(q_values, actions\u001b[39m.\u001b[39mreshape(\u001b[39m-\u001b[39m\u001b[39m1\u001b[39m, \u001b[39m1\u001b[39m), axis\u001b[39m=\u001b[39m\u001b[39m1\u001b[39m, batch_dims\u001b[39m=\u001b[39m\u001b[39m1\u001b[39m)\n\u001b[1;32m     <a href='file:///home/jskang/rl/course22_rl_finalproject/models/dqn.py?line=80'>81</a>\u001b[0m \u001b[39mreturn\u001b[39;00m q_values_about_actions\n",
      "File \u001b[0;32m~/rl/course22_rl_finalproject/models/dqn.py:103\u001b[0m, in \u001b[0;36mDQN.compute_Qvalues\u001b[0;34m(self, states)\u001b[0m\n\u001b[1;32m     <a href='file:///home/jskang/rl/course22_rl_finalproject/models/dqn.py?line=95'>96</a>\u001b[0m \u001b[39m\"\"\"\u001b[39;00m\n\u001b[1;32m     <a href='file:///home/jskang/rl/course22_rl_finalproject/models/dqn.py?line=96'>97</a>\u001b[0m \u001b[39mstates: numpy array as input to the neural net, states should have\u001b[39;00m\n\u001b[1;32m     <a href='file:///home/jskang/rl/course22_rl_finalproject/models/dqn.py?line=97'>98</a>\u001b[0m \u001b[39msize [numsamples, obssize], where numsamples is the number of samples\u001b[39;00m\n\u001b[1;32m     <a href='file:///home/jskang/rl/course22_rl_finalproject/models/dqn.py?line=98'>99</a>\u001b[0m \u001b[39moutput: Q values for these states. The output should have size \u001b[39;00m\n\u001b[1;32m    <a href='file:///home/jskang/rl/course22_rl_finalproject/models/dqn.py?line=99'>100</a>\u001b[0m \u001b[39m[numsamples, actsize] as numpy array\u001b[39;00m\n\u001b[1;32m    <a href='file:///home/jskang/rl/course22_rl_finalproject/models/dqn.py?line=100'>101</a>\u001b[0m \u001b[39m\"\"\"\u001b[39;00m\n\u001b[1;32m    <a href='file:///home/jskang/rl/course22_rl_finalproject/models/dqn.py?line=101'>102</a>\u001b[0m inputs \u001b[39m=\u001b[39m np\u001b[39m.\u001b[39matleast_2d(states\u001b[39m.\u001b[39mastype(\u001b[39m'\u001b[39m\u001b[39mfloat32\u001b[39m\u001b[39m'\u001b[39m))\n\u001b[0;32m--> <a href='file:///home/jskang/rl/course22_rl_finalproject/models/dqn.py?line=102'>103</a>\u001b[0m \u001b[39mreturn\u001b[39;00m \u001b[39mself\u001b[39;49m\u001b[39m.\u001b[39;49mqfunction(inputs)\n",
      "File \u001b[0;32m~/anaconda3/envs/rl_final/lib/python3.9/site-packages/tensorflow/python/keras/engine/base_layer.py:1012\u001b[0m, in \u001b[0;36mLayer.__call__\u001b[0;34m(self, *args, **kwargs)\u001b[0m\n\u001b[1;32m   <a href='file:///home/jskang/anaconda3/envs/rl_final/lib/python3.9/site-packages/tensorflow/python/keras/engine/base_layer.py?line=1007'>1008</a>\u001b[0m   \u001b[39mself\u001b[39m\u001b[39m.\u001b[39m_maybe_build(inputs)\n\u001b[1;32m   <a href='file:///home/jskang/anaconda3/envs/rl_final/lib/python3.9/site-packages/tensorflow/python/keras/engine/base_layer.py?line=1009'>1010</a>\u001b[0m \u001b[39mwith\u001b[39;00m autocast_variable\u001b[39m.\u001b[39menable_auto_cast_variables(\n\u001b[1;32m   <a href='file:///home/jskang/anaconda3/envs/rl_final/lib/python3.9/site-packages/tensorflow/python/keras/engine/base_layer.py?line=1010'>1011</a>\u001b[0m     \u001b[39mself\u001b[39m\u001b[39m.\u001b[39m_compute_dtype_object):\n\u001b[0;32m-> <a href='file:///home/jskang/anaconda3/envs/rl_final/lib/python3.9/site-packages/tensorflow/python/keras/engine/base_layer.py?line=1011'>1012</a>\u001b[0m   outputs \u001b[39m=\u001b[39m call_fn(inputs, \u001b[39m*\u001b[39;49margs, \u001b[39m*\u001b[39;49m\u001b[39m*\u001b[39;49mkwargs)\n\u001b[1;32m   <a href='file:///home/jskang/anaconda3/envs/rl_final/lib/python3.9/site-packages/tensorflow/python/keras/engine/base_layer.py?line=1013'>1014</a>\u001b[0m \u001b[39mif\u001b[39;00m \u001b[39mself\u001b[39m\u001b[39m.\u001b[39m_activity_regularizer:\n\u001b[1;32m   <a href='file:///home/jskang/anaconda3/envs/rl_final/lib/python3.9/site-packages/tensorflow/python/keras/engine/base_layer.py?line=1014'>1015</a>\u001b[0m   \u001b[39mself\u001b[39m\u001b[39m.\u001b[39m_handle_activity_regularization(inputs, outputs)\n",
      "File \u001b[0;32m~/anaconda3/envs/rl_final/lib/python3.9/site-packages/tensorflow/python/eager/def_function.py:828\u001b[0m, in \u001b[0;36mFunction.__call__\u001b[0;34m(self, *args, **kwds)\u001b[0m\n\u001b[1;32m    <a href='file:///home/jskang/anaconda3/envs/rl_final/lib/python3.9/site-packages/tensorflow/python/eager/def_function.py?line=825'>826</a>\u001b[0m tracing_count \u001b[39m=\u001b[39m \u001b[39mself\u001b[39m\u001b[39m.\u001b[39mexperimental_get_tracing_count()\n\u001b[1;32m    <a href='file:///home/jskang/anaconda3/envs/rl_final/lib/python3.9/site-packages/tensorflow/python/eager/def_function.py?line=826'>827</a>\u001b[0m \u001b[39mwith\u001b[39;00m trace\u001b[39m.\u001b[39mTrace(\u001b[39mself\u001b[39m\u001b[39m.\u001b[39m_name) \u001b[39mas\u001b[39;00m tm:\n\u001b[0;32m--> <a href='file:///home/jskang/anaconda3/envs/rl_final/lib/python3.9/site-packages/tensorflow/python/eager/def_function.py?line=827'>828</a>\u001b[0m   result \u001b[39m=\u001b[39m \u001b[39mself\u001b[39;49m\u001b[39m.\u001b[39;49m_call(\u001b[39m*\u001b[39;49margs, \u001b[39m*\u001b[39;49m\u001b[39m*\u001b[39;49mkwds)\n\u001b[1;32m    <a href='file:///home/jskang/anaconda3/envs/rl_final/lib/python3.9/site-packages/tensorflow/python/eager/def_function.py?line=828'>829</a>\u001b[0m   compiler \u001b[39m=\u001b[39m \u001b[39m\"\u001b[39m\u001b[39mxla\u001b[39m\u001b[39m\"\u001b[39m \u001b[39mif\u001b[39;00m \u001b[39mself\u001b[39m\u001b[39m.\u001b[39m_experimental_compile \u001b[39melse\u001b[39;00m \u001b[39m\"\u001b[39m\u001b[39mnonXla\u001b[39m\u001b[39m\"\u001b[39m\n\u001b[1;32m    <a href='file:///home/jskang/anaconda3/envs/rl_final/lib/python3.9/site-packages/tensorflow/python/eager/def_function.py?line=829'>830</a>\u001b[0m   new_tracing_count \u001b[39m=\u001b[39m \u001b[39mself\u001b[39m\u001b[39m.\u001b[39mexperimental_get_tracing_count()\n",
      "File \u001b[0;32m~/anaconda3/envs/rl_final/lib/python3.9/site-packages/tensorflow/python/eager/def_function.py:855\u001b[0m, in \u001b[0;36mFunction._call\u001b[0;34m(self, *args, **kwds)\u001b[0m\n\u001b[1;32m    <a href='file:///home/jskang/anaconda3/envs/rl_final/lib/python3.9/site-packages/tensorflow/python/eager/def_function.py?line=851'>852</a>\u001b[0m   \u001b[39mself\u001b[39m\u001b[39m.\u001b[39m_lock\u001b[39m.\u001b[39mrelease()\n\u001b[1;32m    <a href='file:///home/jskang/anaconda3/envs/rl_final/lib/python3.9/site-packages/tensorflow/python/eager/def_function.py?line=852'>853</a>\u001b[0m   \u001b[39m# In this case we have created variables on the first call, so we run the\u001b[39;00m\n\u001b[1;32m    <a href='file:///home/jskang/anaconda3/envs/rl_final/lib/python3.9/site-packages/tensorflow/python/eager/def_function.py?line=853'>854</a>\u001b[0m   \u001b[39m# defunned version which is guaranteed to never create variables.\u001b[39;00m\n\u001b[0;32m--> <a href='file:///home/jskang/anaconda3/envs/rl_final/lib/python3.9/site-packages/tensorflow/python/eager/def_function.py?line=854'>855</a>\u001b[0m   \u001b[39mreturn\u001b[39;00m \u001b[39mself\u001b[39;49m\u001b[39m.\u001b[39;49m_stateless_fn(\u001b[39m*\u001b[39;49margs, \u001b[39m*\u001b[39;49m\u001b[39m*\u001b[39;49mkwds)  \u001b[39m# pylint: disable=not-callable\u001b[39;00m\n\u001b[1;32m    <a href='file:///home/jskang/anaconda3/envs/rl_final/lib/python3.9/site-packages/tensorflow/python/eager/def_function.py?line=855'>856</a>\u001b[0m \u001b[39melif\u001b[39;00m \u001b[39mself\u001b[39m\u001b[39m.\u001b[39m_stateful_fn \u001b[39mis\u001b[39;00m \u001b[39mnot\u001b[39;00m \u001b[39mNone\u001b[39;00m:\n\u001b[1;32m    <a href='file:///home/jskang/anaconda3/envs/rl_final/lib/python3.9/site-packages/tensorflow/python/eager/def_function.py?line=856'>857</a>\u001b[0m   \u001b[39m# Release the lock early so that multiple threads can perform the call\u001b[39;00m\n\u001b[1;32m    <a href='file:///home/jskang/anaconda3/envs/rl_final/lib/python3.9/site-packages/tensorflow/python/eager/def_function.py?line=857'>858</a>\u001b[0m   \u001b[39m# in parallel.\u001b[39;00m\n\u001b[1;32m    <a href='file:///home/jskang/anaconda3/envs/rl_final/lib/python3.9/site-packages/tensorflow/python/eager/def_function.py?line=858'>859</a>\u001b[0m   \u001b[39mself\u001b[39m\u001b[39m.\u001b[39m_lock\u001b[39m.\u001b[39mrelease()\n",
      "File \u001b[0;32m~/anaconda3/envs/rl_final/lib/python3.9/site-packages/tensorflow/python/eager/function.py:2942\u001b[0m, in \u001b[0;36mFunction.__call__\u001b[0;34m(self, *args, **kwargs)\u001b[0m\n\u001b[1;32m   <a href='file:///home/jskang/anaconda3/envs/rl_final/lib/python3.9/site-packages/tensorflow/python/eager/function.py?line=2938'>2939</a>\u001b[0m \u001b[39mwith\u001b[39;00m \u001b[39mself\u001b[39m\u001b[39m.\u001b[39m_lock:\n\u001b[1;32m   <a href='file:///home/jskang/anaconda3/envs/rl_final/lib/python3.9/site-packages/tensorflow/python/eager/function.py?line=2939'>2940</a>\u001b[0m   (graph_function,\n\u001b[1;32m   <a href='file:///home/jskang/anaconda3/envs/rl_final/lib/python3.9/site-packages/tensorflow/python/eager/function.py?line=2940'>2941</a>\u001b[0m    filtered_flat_args) \u001b[39m=\u001b[39m \u001b[39mself\u001b[39m\u001b[39m.\u001b[39m_maybe_define_function(args, kwargs)\n\u001b[0;32m-> <a href='file:///home/jskang/anaconda3/envs/rl_final/lib/python3.9/site-packages/tensorflow/python/eager/function.py?line=2941'>2942</a>\u001b[0m \u001b[39mreturn\u001b[39;00m graph_function\u001b[39m.\u001b[39;49m_call_flat(\n\u001b[1;32m   <a href='file:///home/jskang/anaconda3/envs/rl_final/lib/python3.9/site-packages/tensorflow/python/eager/function.py?line=2942'>2943</a>\u001b[0m     filtered_flat_args, captured_inputs\u001b[39m=\u001b[39;49mgraph_function\u001b[39m.\u001b[39;49mcaptured_inputs)\n",
      "File \u001b[0;32m~/anaconda3/envs/rl_final/lib/python3.9/site-packages/tensorflow/python/eager/function.py:1926\u001b[0m, in \u001b[0;36mConcreteFunction._call_flat\u001b[0;34m(self, args, captured_inputs, cancellation_manager)\u001b[0m\n\u001b[1;32m   <a href='file:///home/jskang/anaconda3/envs/rl_final/lib/python3.9/site-packages/tensorflow/python/eager/function.py?line=1923'>1924</a>\u001b[0m forward_function, args_with_tangents \u001b[39m=\u001b[39m forward_backward\u001b[39m.\u001b[39mforward()\n\u001b[1;32m   <a href='file:///home/jskang/anaconda3/envs/rl_final/lib/python3.9/site-packages/tensorflow/python/eager/function.py?line=1924'>1925</a>\u001b[0m \u001b[39mif\u001b[39;00m executing_eagerly:\n\u001b[0;32m-> <a href='file:///home/jskang/anaconda3/envs/rl_final/lib/python3.9/site-packages/tensorflow/python/eager/function.py?line=1925'>1926</a>\u001b[0m   flat_outputs \u001b[39m=\u001b[39m forward_function\u001b[39m.\u001b[39;49mcall(\n\u001b[1;32m   <a href='file:///home/jskang/anaconda3/envs/rl_final/lib/python3.9/site-packages/tensorflow/python/eager/function.py?line=1926'>1927</a>\u001b[0m       ctx, args_with_tangents, cancellation_manager\u001b[39m=\u001b[39;49mcancellation_manager)\n\u001b[1;32m   <a href='file:///home/jskang/anaconda3/envs/rl_final/lib/python3.9/site-packages/tensorflow/python/eager/function.py?line=1927'>1928</a>\u001b[0m \u001b[39melse\u001b[39;00m:\n\u001b[1;32m   <a href='file:///home/jskang/anaconda3/envs/rl_final/lib/python3.9/site-packages/tensorflow/python/eager/function.py?line=1928'>1929</a>\u001b[0m   \u001b[39mwith\u001b[39;00m default_graph\u001b[39m.\u001b[39m_override_gradient_function(  \u001b[39m# pylint: disable=protected-access\u001b[39;00m\n\u001b[1;32m   <a href='file:///home/jskang/anaconda3/envs/rl_final/lib/python3.9/site-packages/tensorflow/python/eager/function.py?line=1929'>1930</a>\u001b[0m       {\u001b[39m\"\u001b[39m\u001b[39mPartitionedCall\u001b[39m\u001b[39m\"\u001b[39m: \u001b[39mself\u001b[39m\u001b[39m.\u001b[39m_get_gradient_function(),\n\u001b[1;32m   <a href='file:///home/jskang/anaconda3/envs/rl_final/lib/python3.9/site-packages/tensorflow/python/eager/function.py?line=1930'>1931</a>\u001b[0m        \u001b[39m\"\u001b[39m\u001b[39mStatefulPartitionedCall\u001b[39m\u001b[39m\"\u001b[39m: \u001b[39mself\u001b[39m\u001b[39m.\u001b[39m_get_gradient_function()}):\n",
      "File \u001b[0;32m~/anaconda3/envs/rl_final/lib/python3.9/site-packages/tensorflow/python/eager/function.py:555\u001b[0m, in \u001b[0;36m_EagerDefinedFunction.call\u001b[0;34m(self, ctx, args, cancellation_manager)\u001b[0m\n\u001b[1;32m    <a href='file:///home/jskang/anaconda3/envs/rl_final/lib/python3.9/site-packages/tensorflow/python/eager/function.py?line=552'>553</a>\u001b[0m \u001b[39mwith\u001b[39;00m _InterpolateFunctionError(\u001b[39mself\u001b[39m):\n\u001b[1;32m    <a href='file:///home/jskang/anaconda3/envs/rl_final/lib/python3.9/site-packages/tensorflow/python/eager/function.py?line=553'>554</a>\u001b[0m   \u001b[39mif\u001b[39;00m cancellation_manager \u001b[39mis\u001b[39;00m \u001b[39mNone\u001b[39;00m:\n\u001b[0;32m--> <a href='file:///home/jskang/anaconda3/envs/rl_final/lib/python3.9/site-packages/tensorflow/python/eager/function.py?line=554'>555</a>\u001b[0m     outputs \u001b[39m=\u001b[39m execute\u001b[39m.\u001b[39;49mexecute(\n\u001b[1;32m    <a href='file:///home/jskang/anaconda3/envs/rl_final/lib/python3.9/site-packages/tensorflow/python/eager/function.py?line=555'>556</a>\u001b[0m         \u001b[39mstr\u001b[39;49m(\u001b[39mself\u001b[39;49m\u001b[39m.\u001b[39;49msignature\u001b[39m.\u001b[39;49mname),\n\u001b[1;32m    <a href='file:///home/jskang/anaconda3/envs/rl_final/lib/python3.9/site-packages/tensorflow/python/eager/function.py?line=556'>557</a>\u001b[0m         num_outputs\u001b[39m=\u001b[39;49m\u001b[39mself\u001b[39;49m\u001b[39m.\u001b[39;49m_num_outputs,\n\u001b[1;32m    <a href='file:///home/jskang/anaconda3/envs/rl_final/lib/python3.9/site-packages/tensorflow/python/eager/function.py?line=557'>558</a>\u001b[0m         inputs\u001b[39m=\u001b[39;49margs,\n\u001b[1;32m    <a href='file:///home/jskang/anaconda3/envs/rl_final/lib/python3.9/site-packages/tensorflow/python/eager/function.py?line=558'>559</a>\u001b[0m         attrs\u001b[39m=\u001b[39;49mattrs,\n\u001b[1;32m    <a href='file:///home/jskang/anaconda3/envs/rl_final/lib/python3.9/site-packages/tensorflow/python/eager/function.py?line=559'>560</a>\u001b[0m         ctx\u001b[39m=\u001b[39;49mctx)\n\u001b[1;32m    <a href='file:///home/jskang/anaconda3/envs/rl_final/lib/python3.9/site-packages/tensorflow/python/eager/function.py?line=560'>561</a>\u001b[0m   \u001b[39melse\u001b[39;00m:\n\u001b[1;32m    <a href='file:///home/jskang/anaconda3/envs/rl_final/lib/python3.9/site-packages/tensorflow/python/eager/function.py?line=561'>562</a>\u001b[0m     outputs \u001b[39m=\u001b[39m execute\u001b[39m.\u001b[39mexecute_with_cancellation(\n\u001b[1;32m    <a href='file:///home/jskang/anaconda3/envs/rl_final/lib/python3.9/site-packages/tensorflow/python/eager/function.py?line=562'>563</a>\u001b[0m         \u001b[39mstr\u001b[39m(\u001b[39mself\u001b[39m\u001b[39m.\u001b[39msignature\u001b[39m.\u001b[39mname),\n\u001b[1;32m    <a href='file:///home/jskang/anaconda3/envs/rl_final/lib/python3.9/site-packages/tensorflow/python/eager/function.py?line=563'>564</a>\u001b[0m         num_outputs\u001b[39m=\u001b[39m\u001b[39mself\u001b[39m\u001b[39m.\u001b[39m_num_outputs,\n\u001b[0;32m   (...)\u001b[0m\n\u001b[1;32m    <a href='file:///home/jskang/anaconda3/envs/rl_final/lib/python3.9/site-packages/tensorflow/python/eager/function.py?line=566'>567</a>\u001b[0m         ctx\u001b[39m=\u001b[39mctx,\n\u001b[1;32m    <a href='file:///home/jskang/anaconda3/envs/rl_final/lib/python3.9/site-packages/tensorflow/python/eager/function.py?line=567'>568</a>\u001b[0m         cancellation_manager\u001b[39m=\u001b[39mcancellation_manager)\n",
      "File \u001b[0;32m~/anaconda3/envs/rl_final/lib/python3.9/site-packages/tensorflow/python/eager/execute.py:59\u001b[0m, in \u001b[0;36mquick_execute\u001b[0;34m(op_name, num_outputs, inputs, attrs, ctx, name)\u001b[0m\n\u001b[1;32m     <a href='file:///home/jskang/anaconda3/envs/rl_final/lib/python3.9/site-packages/tensorflow/python/eager/execute.py?line=56'>57</a>\u001b[0m \u001b[39mtry\u001b[39;00m:\n\u001b[1;32m     <a href='file:///home/jskang/anaconda3/envs/rl_final/lib/python3.9/site-packages/tensorflow/python/eager/execute.py?line=57'>58</a>\u001b[0m   ctx\u001b[39m.\u001b[39mensure_initialized()\n\u001b[0;32m---> <a href='file:///home/jskang/anaconda3/envs/rl_final/lib/python3.9/site-packages/tensorflow/python/eager/execute.py?line=58'>59</a>\u001b[0m   tensors \u001b[39m=\u001b[39m pywrap_tfe\u001b[39m.\u001b[39;49mTFE_Py_Execute(ctx\u001b[39m.\u001b[39;49m_handle, device_name, op_name,\n\u001b[1;32m     <a href='file:///home/jskang/anaconda3/envs/rl_final/lib/python3.9/site-packages/tensorflow/python/eager/execute.py?line=59'>60</a>\u001b[0m                                       inputs, attrs, num_outputs)\n\u001b[1;32m     <a href='file:///home/jskang/anaconda3/envs/rl_final/lib/python3.9/site-packages/tensorflow/python/eager/execute.py?line=60'>61</a>\u001b[0m \u001b[39mexcept\u001b[39;00m core\u001b[39m.\u001b[39m_NotOkStatusException \u001b[39mas\u001b[39;00m e:\n\u001b[1;32m     <a href='file:///home/jskang/anaconda3/envs/rl_final/lib/python3.9/site-packages/tensorflow/python/eager/execute.py?line=61'>62</a>\u001b[0m   \u001b[39mif\u001b[39;00m name \u001b[39mis\u001b[39;00m \u001b[39mnot\u001b[39;00m \u001b[39mNone\u001b[39;00m:\n",
      "\u001b[0;31mKeyboardInterrupt\u001b[0m: "
     ]
    }
   ],
   "source": [
    "from models import dqn\n",
    "import tensorflow as tf\n",
    "from tensorflow import keras\n",
    "\n",
    "from collections import deque\n",
    "import numpy as np\n",
    "import matplotlib\n",
    "import matplotlib.pyplot as plt\n",
    "import gym\n",
    "from lava_grid import ZigZag6x10\n",
    "from agent_lava import agent\n",
    "import random\n",
    "\n",
    "max_steps = 100\n",
    "stochasticity = 0 # probability of the selected action failing and instead executing any of the remaining 3\n",
    "no_render = True\n",
    "\n",
    "env = ZigZag6x10(max_steps=max_steps, act_fail_prob=stochasticity, goal=(5, 9), numpy_state=False)\n",
    "\n",
    "\n",
    "episodes = 3000  # number of episodes to run\n",
    "initialize = 500  # initial time steps before start updating\n",
    "\n",
    "# recieve 1 at rightmost stae and recieve small reward at leftmost state\n",
    "agent = agent(env)\n",
    "s = env.reset()\n",
    "\n",
    "rrecord = []\n",
    "totalstep = 0\n",
    "for ite in range(episodes):\n",
    "    obs = env.reset()\n",
    "    done = False\n",
    "    rsum = 0\n",
    "    while not done:\n",
    "        totalstep +=1\n",
    "        action = agent.action(obs)\n",
    "        next_obs,reward,done,info = env.step(action)\n",
    "        if type(obs) == np.int64 :\n",
    "            obs = np.zeros((60,)).tolist()\n",
    "            #print(obs, \"test\")\n",
    "        rsum += reward\n",
    "        experience = (obs,action,reward,next_obs,done)\n",
    "        agent.buffer.append(experience)\n",
    "\n",
    "        if totalstep>initialize:\n",
    "            agent.train(totalstep)\n",
    "        obs = next_obs\n",
    "\n",
    "################################################################################\n",
    "    ## DO NOT CHANGE THIS PART!\n",
    "    rrecord.append(rsum)\n",
    "    if ite % 100 == 0:\n",
    "        print('iteration {} ave reward {}'.format(ite, np.mean(rrecord[-10:])))\n",
    "    \n",
    "    ave100 = np.mean(rrecord[-100:])   \n",
    "    if  ave100 >= 0:\n",
    "        print(\"Solved after %d episodes.\"%ite)\n",
    "        break"
   ]
  },
  {
   "cell_type": "code",
   "execution_count": null,
   "metadata": {},
   "outputs": [],
   "source": []
  }
 ],
 "metadata": {
  "interpreter": {
   "hash": "6b8ac3fc04880ec3c745ec33db7677d09628aa7e2e0c0a0338178b516357407b"
  },
  "kernelspec": {
   "display_name": "Python 3.9.12 ('rl_final')",
   "language": "python",
   "name": "python3"
  },
  "language_info": {
   "codemirror_mode": {
    "name": "ipython",
    "version": 3
   },
   "file_extension": ".py",
   "mimetype": "text/x-python",
   "name": "python",
   "nbconvert_exporter": "python",
   "pygments_lexer": "ipython3",
   "version": "3.9.12"
  },
  "orig_nbformat": 4
 },
 "nbformat": 4,
 "nbformat_minor": 2
}
