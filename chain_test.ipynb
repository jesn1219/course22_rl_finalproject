{
 "cells": [
  {
   "cell_type": "code",
   "execution_count": 3,
   "metadata": {},
   "outputs": [
    {
     "data": {
      "text/plain": [
       "'\\n\\nfrom chain_mdp import ChainMDP\\nfrom agent_chainMDP import agent\\n# recieve 1 at rightmost stae and recieve small reward at leftmost state\\nenv = ChainMDP(10)\\ns = env.reset()\\n\\n\\n\"\"\" Your agent\"\"\"\\nagent = agent(env)\\n\\ndone = False\\ncum_reward = 0.0\\n# always move right left: 0, right: 1\\naction = 1\\nwhile not done:    \\n    action = agent.action()\\n    ns, reward, done, _ = env.step(action)\\n    cum_reward += reward\\nprint(f\"total reward: {cum_reward}\")\\n\\n\\n'"
      ]
     },
     "execution_count": 3,
     "metadata": {},
     "output_type": "execute_result"
    }
   ],
   "source": [
    "'''\n",
    "\n",
    "from chain_mdp import ChainMDP\n",
    "from agent_chainMDP import agent\n",
    "# recieve 1 at rightmost stae and recieve small reward at leftmost state\n",
    "env = ChainMDP(10)\n",
    "s = env.reset()\n",
    "\n",
    "\n",
    "\"\"\" Your agent\"\"\"\n",
    "agent = agent(env)\n",
    "\n",
    "done = False\n",
    "cum_reward = 0.0\n",
    "# always move right left: 0, right: 1\n",
    "action = 1\n",
    "while not done:    \n",
    "    action = agent.action()\n",
    "    ns, reward, done, _ = env.step(action)\n",
    "    cum_reward += reward\n",
    "print(f\"total reward: {cum_reward}\")\n",
    "\n",
    "\n",
    "'''\n",
    "\n"
   ]
  },
  {
   "cell_type": "code",
   "execution_count": 4,
   "metadata": {},
   "outputs": [
    {
     "name": "stdout",
     "output_type": "stream",
     "text": [
      "iteration 0 ave reward 0.004\n",
      "iteration 200 ave reward 0.0\n",
      "iteration 400 ave reward 0.0\n",
      "iteration 600 ave reward 4.0\n",
      "iteration 800 ave reward 0.0\n",
      "iteration 1000 ave reward 0.0\n",
      "iteration 1200 ave reward 0.017000000000000008\n",
      "iteration 1400 ave reward 0.017000000000000008\n",
      "iteration 1600 ave reward 0.01580000000000001\n",
      "iteration 1800 ave reward 0.017000000000000008\n",
      "iteration 2000 ave reward 0.014800000000000008\n",
      "iteration 2200 ave reward 0.0\n",
      "iteration 2400 ave reward 0.0\n",
      "iteration 2600 ave reward 9.4\n",
      "iteration 2800 ave reward 10.0\n"
     ]
    }
   ],
   "source": [
    "from models import dqn\n",
    "import tensorflow as tf\n",
    "from tensorflow import keras\n",
    "\n",
    "from collections import deque\n",
    "import numpy as np\n",
    "import matplotlib\n",
    "import matplotlib.pyplot as plt\n",
    "\n",
    "\n",
    "episodes = 3000  # number of episodes to run\n",
    "initialize = 500  # initial time steps before start updating\n",
    "\n",
    "from chain_mdp import ChainMDP\n",
    "from agent_chainMDP import agent\n",
    "# recieve 1 at rightmost stae and recieve small reward at leftmost state\n",
    "env = ChainMDP(10)\n",
    "agent = agent(env)\n",
    "s = env.reset()\n",
    "\n",
    "rrecord = []\n",
    "totalstep = 0\n",
    "for ite in range(episodes):\n",
    "    obs = env.reset()\n",
    "    done = False\n",
    "    rsum = 0\n",
    "    while not done:\n",
    "        totalstep +=1\n",
    "        action = agent.action(obs)\n",
    "\n",
    "        next_obs,reward,done,info = env.step(action)\n",
    "        rsum += reward\n",
    "        experience = (obs,action,reward,next_obs,done)\n",
    "        agent.buffer.append(experience)\n",
    "\n",
    "        if totalstep>initialize:\n",
    "            agent.train(totalstep)\n",
    "        obs = next_obs\n",
    "                        \n",
    "\n",
    "################################################################################\n",
    "    ## DO NOT CHANGE THIS PART!\n",
    "    rrecord.append(rsum)\n",
    "    if ite % 200 == 0:\n",
    "        print('iteration {} ave reward {}'.format(ite, np.mean(rrecord[-10:])))\n",
    "    \n",
    "    ave100 = np.mean(rrecord[-100:])   \n",
    "    if  ave100 > 17.5:\n",
    "        print(\"Solved after %d episodes.\"%ite)\n",
    "        break"
   ]
  },
  {
   "cell_type": "code",
   "execution_count": 6,
   "metadata": {},
   "outputs": [
    {
     "data": {
      "image/png": "[encoded data removed]",
      "text/plain": [
       "<Figure size 432x288 with 1 Axes>"
      ]
     },
     "metadata": {
      "needs_background": "light"
     },
     "output_type": "display_data"
    }
   ],
   "source": [
    "# plot [episode, reward] history\n",
    "x = [i+1 for i in range(len(rrecord))]\n",
    "plt.plot(x, rrecord)\n",
    "plt.title('episode rewards')\n",
    "plt.xlabel('episodes')\n",
    "plt.ylabel('rewards')\n",
    "plt.show()"
   ]
  },
  {
   "cell_type": "code",
   "execution_count": null,
   "metadata": {},
   "outputs": [],
   "source": []
  }
 ],
 "metadata": {
  "interpreter": {
   "hash": "6b8ac3fc04880ec3c745ec33db7677d09628aa7e2e0c0a0338178b516357407b"
  },
  "kernelspec": {
   "display_name": "Python 3.9.12 ('rl_final')",
   "language": "python",
   "name": "python3"
  },
  "language_info": {
   "codemirror_mode": {
    "name": "ipython",
    "version": 3
   },
   "file_extension": ".py",
   "mimetype": "text/x-python",
   "name": "python",
   "nbconvert_exporter": "python",
   "pygments_lexer": "ipython3",
   "version": "3.9.12"
  },
  "orig_nbformat": 4
 },
 "nbformat": 4,
 "nbformat_minor": 2
}
