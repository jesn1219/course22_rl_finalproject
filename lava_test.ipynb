{
 "cells": [
  {
   "cell_type": "code",
   "execution_count": 2,
   "metadata": {},
   "outputs": [
    {
     "data": {
      "text/plain": [
       "'\\n\\nimport gym\\nfrom lava_grid import ZigZag6x10\\nfrom agent_lava import agent\\nimport random\\n# default setting\\nmax_steps = 100\\nstochasticity = 0 # probability of the selected action failing and instead executing any of the remaining 3\\nno_render = True\\n\\nenv = ZigZag6x10(max_steps=max_steps, act_fail_prob=stochasticity, goal=(5, 9), numpy_state=False)\\ns = env.reset()\\ndone = False\\ncum_reward = 0.0\\n\\n\"\"\" Your agent\"\"\"\\nagent = agent()\\n\\n# moving costs -0.01, falling in lava -1, reaching goal +1\\n# final reward is number_of_steps / max_steps\\nwhile not done:\\n    action = agent.action()\\n    action = random.randrange(4)#: random actions\\n    ns, reward, done, _ = env.step(action)\\n    cum_reward += reward\\nprint(f\"total reward: {cum_reward}\")\\n\\n'"
      ]
     },
     "execution_count": 2,
     "metadata": {},
     "output_type": "execute_result"
    }
   ],
   "source": [
    "'''\n",
    "\n",
    "import gym\n",
    "from lava_grid import ZigZag6x10\n",
    "from agent_lava import agent\n",
    "import random\n",
    "# default setting\n",
    "max_steps = 100\n",
    "stochasticity = 0 # probability of the selected action failing and instead executing any of the remaining 3\n",
    "no_render = True\n",
    "\n",
    "env = ZigZag6x10(max_steps=max_steps, act_fail_prob=stochasticity, goal=(5, 9), numpy_state=False)\n",
    "s = env.reset()\n",
    "done = False\n",
    "cum_reward = 0.0\n",
    "\n",
    "\"\"\" Your agent\"\"\"\n",
    "agent = agent()\n",
    "\n",
    "# moving costs -0.01, falling in lava -1, reaching goal +1\n",
    "# final reward is number_of_steps / max_steps\n",
    "while not done:\n",
    "    action = agent.action()\n",
    "    action = random.randrange(4)#: random actions\n",
    "    ns, reward, done, _ = env.step(action)\n",
    "    cum_reward += reward\n",
    "print(f\"total reward: {cum_reward}\")\n",
    "\n",
    "'''\n",
    "\n"
   ]
  },
  {
   "cell_type": "code",
   "execution_count": 12,
   "metadata": {},
   "outputs": [
    {
     "name": "stdout",
     "output_type": "stream",
     "text": [
      "iteration 0 ave reward -1.04\n"
     ]
    },
    {
     "ename": "KeyboardInterrupt",
     "evalue": "",
     "output_type": "error",
     "traceback": [
      "\u001b[0;31m---------------------------------------------------------------------------\u001b[0m",
      "\u001b[0;31mKeyboardInterrupt\u001b[0m                         Traceback (most recent call last)",
      "\u001b[1;32m/home/jskang/rl/course22_rl_finalproject/lava_test.ipynb Cell 2'\u001b[0m in \u001b[0;36m<cell line: 30>\u001b[0;34m()\u001b[0m\n\u001b[1;32m     <a href='vscode-notebook-cell://ssh-remote%2B147.46.216.63/home/jskang/rl/course22_rl_finalproject/lava_test.ipynb#ch0000004vscode-remote?line=42'>43</a>\u001b[0m         agent\u001b[39m.\u001b[39mbuffer\u001b[39m.\u001b[39mappend(experience)\n\u001b[1;32m     <a href='vscode-notebook-cell://ssh-remote%2B147.46.216.63/home/jskang/rl/course22_rl_finalproject/lava_test.ipynb#ch0000004vscode-remote?line=44'>45</a>\u001b[0m         \u001b[39mif\u001b[39;00m totalstep\u001b[39m>\u001b[39minitialize:\n\u001b[0;32m---> <a href='vscode-notebook-cell://ssh-remote%2B147.46.216.63/home/jskang/rl/course22_rl_finalproject/lava_test.ipynb#ch0000004vscode-remote?line=45'>46</a>\u001b[0m             agent\u001b[39m.\u001b[39;49mtrain(totalstep)\n\u001b[1;32m     <a href='vscode-notebook-cell://ssh-remote%2B147.46.216.63/home/jskang/rl/course22_rl_finalproject/lava_test.ipynb#ch0000004vscode-remote?line=46'>47</a>\u001b[0m         obs \u001b[39m=\u001b[39m next_obs\n\u001b[1;32m     <a href='vscode-notebook-cell://ssh-remote%2B147.46.216.63/home/jskang/rl/course22_rl_finalproject/lava_test.ipynb#ch0000004vscode-remote?line=48'>49</a>\u001b[0m \u001b[39m################################################################################\u001b[39;00m\n\u001b[1;32m     <a href='vscode-notebook-cell://ssh-remote%2B147.46.216.63/home/jskang/rl/course22_rl_finalproject/lava_test.ipynb#ch0000004vscode-remote?line=49'>50</a>\u001b[0m     \u001b[39m## DO NOT CHANGE THIS PART!\u001b[39;00m\n",
      "File \u001b[0;32m~/rl/course22_rl_finalproject/agent_lava.py:65\u001b[0m, in \u001b[0;36magent.train\u001b[0;34m(self, totalstep)\u001b[0m\n\u001b[1;32m     <a href='file:///home/jskang/rl/course22_rl_finalproject/agent_lava.py?line=62'>63</a>\u001b[0m tmp \u001b[39m=\u001b[39m np\u001b[39m.\u001b[39mmax(tmp,axis\u001b[39m=\u001b[39m\u001b[39m1\u001b[39m)\u001b[39m*\u001b[39m(\u001b[39m1\u001b[39m\u001b[39m-\u001b[39mcurr_done)\n\u001b[1;32m     <a href='file:///home/jskang/rl/course22_rl_finalproject/agent_lava.py?line=63'>64</a>\u001b[0m target_d \u001b[39m=\u001b[39m np\u001b[39m.\u001b[39mexpand_dims(curr_rew\u001b[39m+\u001b[39mtmp\u001b[39m*\u001b[39m\u001b[39mself\u001b[39m\u001b[39m.\u001b[39mgamma,axis\u001b[39m=\u001b[39m\u001b[39m1\u001b[39m)\n\u001b[0;32m---> <a href='file:///home/jskang/rl/course22_rl_finalproject/agent_lava.py?line=64'>65</a>\u001b[0m loss \u001b[39m=\u001b[39m \u001b[39mself\u001b[39;49m\u001b[39m.\u001b[39;49mQprincipal\u001b[39m.\u001b[39;49mtrain(curr_obs,curr_act,target_d)\n\u001b[1;32m     <a href='file:///home/jskang/rl/course22_rl_finalproject/agent_lava.py?line=66'>67</a>\u001b[0m \u001b[39mif\u001b[39;00m totalstep \u001b[39m%\u001b[39m \u001b[39mself\u001b[39m\u001b[39m.\u001b[39mtau \u001b[39m==\u001b[39m \u001b[39m0\u001b[39m:\n\u001b[1;32m     <a href='file:///home/jskang/rl/course22_rl_finalproject/agent_lava.py?line=67'>68</a>\u001b[0m     \u001b[39mself\u001b[39m\u001b[39m.\u001b[39mQtarget\u001b[39m.\u001b[39mupdate_weights(\u001b[39mself\u001b[39m\u001b[39m.\u001b[39mQprincipal)\n",
      "File \u001b[0;32m~/rl/course22_rl_finalproject/models/dqn.py:116\u001b[0m, in \u001b[0;36mDQN.train\u001b[0;34m(self, states, actions, targets)\u001b[0m\n\u001b[1;32m    <a href='file:///home/jskang/rl/course22_rl_finalproject/models/dqn.py?line=113'>114</a>\u001b[0m     loss \u001b[39m=\u001b[39m \u001b[39mself\u001b[39m\u001b[39m.\u001b[39m_loss(Qpreds, targets)\n\u001b[1;32m    <a href='file:///home/jskang/rl/course22_rl_finalproject/models/dqn.py?line=114'>115</a>\u001b[0m variables \u001b[39m=\u001b[39m \u001b[39mself\u001b[39m\u001b[39m.\u001b[39mqfunction\u001b[39m.\u001b[39mtrainable_variables\n\u001b[0;32m--> <a href='file:///home/jskang/rl/course22_rl_finalproject/models/dqn.py?line=115'>116</a>\u001b[0m gradients \u001b[39m=\u001b[39m tape\u001b[39m.\u001b[39;49mgradient(loss, variables)\n\u001b[1;32m    <a href='file:///home/jskang/rl/course22_rl_finalproject/models/dqn.py?line=116'>117</a>\u001b[0m \u001b[39mself\u001b[39m\u001b[39m.\u001b[39moptimizer\u001b[39m.\u001b[39mapply_gradients(\u001b[39mzip\u001b[39m(gradients, variables))\n\u001b[1;32m    <a href='file:///home/jskang/rl/course22_rl_finalproject/models/dqn.py?line=117'>118</a>\u001b[0m \u001b[39mreturn\u001b[39;00m loss\n",
      "File \u001b[0;32m~/anaconda3/envs/rl_final/lib/python3.9/site-packages/tensorflow/python/eager/backprop.py:1080\u001b[0m, in \u001b[0;36mGradientTape.gradient\u001b[0;34m(self, target, sources, output_gradients, unconnected_gradients)\u001b[0m\n\u001b[1;32m   <a href='file:///home/jskang/anaconda3/envs/rl_final/lib/python3.9/site-packages/tensorflow/python/eager/backprop.py?line=1075'>1076</a>\u001b[0m \u001b[39mif\u001b[39;00m output_gradients \u001b[39mis\u001b[39;00m \u001b[39mnot\u001b[39;00m \u001b[39mNone\u001b[39;00m:\n\u001b[1;32m   <a href='file:///home/jskang/anaconda3/envs/rl_final/lib/python3.9/site-packages/tensorflow/python/eager/backprop.py?line=1076'>1077</a>\u001b[0m   output_gradients \u001b[39m=\u001b[39m [\u001b[39mNone\u001b[39;00m \u001b[39mif\u001b[39;00m x \u001b[39mis\u001b[39;00m \u001b[39mNone\u001b[39;00m \u001b[39melse\u001b[39;00m ops\u001b[39m.\u001b[39mconvert_to_tensor(x)\n\u001b[1;32m   <a href='file:///home/jskang/anaconda3/envs/rl_final/lib/python3.9/site-packages/tensorflow/python/eager/backprop.py?line=1077'>1078</a>\u001b[0m                       \u001b[39mfor\u001b[39;00m x \u001b[39min\u001b[39;00m nest\u001b[39m.\u001b[39mflatten(output_gradients)]\n\u001b[0;32m-> <a href='file:///home/jskang/anaconda3/envs/rl_final/lib/python3.9/site-packages/tensorflow/python/eager/backprop.py?line=1079'>1080</a>\u001b[0m flat_grad \u001b[39m=\u001b[39m imperative_grad\u001b[39m.\u001b[39;49mimperative_grad(\n\u001b[1;32m   <a href='file:///home/jskang/anaconda3/envs/rl_final/lib/python3.9/site-packages/tensorflow/python/eager/backprop.py?line=1080'>1081</a>\u001b[0m     \u001b[39mself\u001b[39;49m\u001b[39m.\u001b[39;49m_tape,\n\u001b[1;32m   <a href='file:///home/jskang/anaconda3/envs/rl_final/lib/python3.9/site-packages/tensorflow/python/eager/backprop.py?line=1081'>1082</a>\u001b[0m     flat_targets,\n\u001b[1;32m   <a href='file:///home/jskang/anaconda3/envs/rl_final/lib/python3.9/site-packages/tensorflow/python/eager/backprop.py?line=1082'>1083</a>\u001b[0m     flat_sources,\n\u001b[1;32m   <a href='file:///home/jskang/anaconda3/envs/rl_final/lib/python3.9/site-packages/tensorflow/python/eager/backprop.py?line=1083'>1084</a>\u001b[0m     output_gradients\u001b[39m=\u001b[39;49moutput_gradients,\n\u001b[1;32m   <a href='file:///home/jskang/anaconda3/envs/rl_final/lib/python3.9/site-packages/tensorflow/python/eager/backprop.py?line=1084'>1085</a>\u001b[0m     sources_raw\u001b[39m=\u001b[39;49mflat_sources_raw,\n\u001b[1;32m   <a href='file:///home/jskang/anaconda3/envs/rl_final/lib/python3.9/site-packages/tensorflow/python/eager/backprop.py?line=1085'>1086</a>\u001b[0m     unconnected_gradients\u001b[39m=\u001b[39;49munconnected_gradients)\n\u001b[1;32m   <a href='file:///home/jskang/anaconda3/envs/rl_final/lib/python3.9/site-packages/tensorflow/python/eager/backprop.py?line=1087'>1088</a>\u001b[0m \u001b[39mif\u001b[39;00m \u001b[39mnot\u001b[39;00m \u001b[39mself\u001b[39m\u001b[39m.\u001b[39m_persistent:\n\u001b[1;32m   <a href='file:///home/jskang/anaconda3/envs/rl_final/lib/python3.9/site-packages/tensorflow/python/eager/backprop.py?line=1088'>1089</a>\u001b[0m   \u001b[39m# Keep track of watched variables before setting tape to None\u001b[39;00m\n\u001b[1;32m   <a href='file:///home/jskang/anaconda3/envs/rl_final/lib/python3.9/site-packages/tensorflow/python/eager/backprop.py?line=1089'>1090</a>\u001b[0m   \u001b[39mself\u001b[39m\u001b[39m.\u001b[39m_watched_variables \u001b[39m=\u001b[39m \u001b[39mself\u001b[39m\u001b[39m.\u001b[39m_tape\u001b[39m.\u001b[39mwatched_variables()\n",
      "File \u001b[0;32m~/anaconda3/envs/rl_final/lib/python3.9/site-packages/tensorflow/python/eager/imperative_grad.py:71\u001b[0m, in \u001b[0;36mimperative_grad\u001b[0;34m(tape, target, sources, output_gradients, sources_raw, unconnected_gradients)\u001b[0m\n\u001b[1;32m     <a href='file:///home/jskang/anaconda3/envs/rl_final/lib/python3.9/site-packages/tensorflow/python/eager/imperative_grad.py?line=66'>67</a>\u001b[0m \u001b[39mexcept\u001b[39;00m \u001b[39mValueError\u001b[39;00m:\n\u001b[1;32m     <a href='file:///home/jskang/anaconda3/envs/rl_final/lib/python3.9/site-packages/tensorflow/python/eager/imperative_grad.py?line=67'>68</a>\u001b[0m   \u001b[39mraise\u001b[39;00m \u001b[39mValueError\u001b[39;00m(\n\u001b[1;32m     <a href='file:///home/jskang/anaconda3/envs/rl_final/lib/python3.9/site-packages/tensorflow/python/eager/imperative_grad.py?line=68'>69</a>\u001b[0m       \u001b[39m\"\u001b[39m\u001b[39mUnknown value for unconnected_gradients: \u001b[39m\u001b[39m%r\u001b[39;00m\u001b[39m\"\u001b[39m \u001b[39m%\u001b[39m unconnected_gradients)\n\u001b[0;32m---> <a href='file:///home/jskang/anaconda3/envs/rl_final/lib/python3.9/site-packages/tensorflow/python/eager/imperative_grad.py?line=70'>71</a>\u001b[0m \u001b[39mreturn\u001b[39;00m pywrap_tfe\u001b[39m.\u001b[39;49mTFE_Py_TapeGradient(\n\u001b[1;32m     <a href='file:///home/jskang/anaconda3/envs/rl_final/lib/python3.9/site-packages/tensorflow/python/eager/imperative_grad.py?line=71'>72</a>\u001b[0m     tape\u001b[39m.\u001b[39;49m_tape,  \u001b[39m# pylint: disable=protected-access\u001b[39;49;00m\n\u001b[1;32m     <a href='file:///home/jskang/anaconda3/envs/rl_final/lib/python3.9/site-packages/tensorflow/python/eager/imperative_grad.py?line=72'>73</a>\u001b[0m     target,\n\u001b[1;32m     <a href='file:///home/jskang/anaconda3/envs/rl_final/lib/python3.9/site-packages/tensorflow/python/eager/imperative_grad.py?line=73'>74</a>\u001b[0m     sources,\n\u001b[1;32m     <a href='file:///home/jskang/anaconda3/envs/rl_final/lib/python3.9/site-packages/tensorflow/python/eager/imperative_grad.py?line=74'>75</a>\u001b[0m     output_gradients,\n\u001b[1;32m     <a href='file:///home/jskang/anaconda3/envs/rl_final/lib/python3.9/site-packages/tensorflow/python/eager/imperative_grad.py?line=75'>76</a>\u001b[0m     sources_raw,\n\u001b[1;32m     <a href='file:///home/jskang/anaconda3/envs/rl_final/lib/python3.9/site-packages/tensorflow/python/eager/imperative_grad.py?line=76'>77</a>\u001b[0m     compat\u001b[39m.\u001b[39;49mas_str(unconnected_gradients\u001b[39m.\u001b[39;49mvalue))\n",
      "File \u001b[0;32m~/anaconda3/envs/rl_final/lib/python3.9/site-packages/tensorflow/python/eager/backprop.py:162\u001b[0m, in \u001b[0;36m_gradient_function\u001b[0;34m(op_name, attr_tuple, num_inputs, inputs, outputs, out_grads, skip_input_indices, forward_pass_name_scope)\u001b[0m\n\u001b[1;32m    <a href='file:///home/jskang/anaconda3/envs/rl_final/lib/python3.9/site-packages/tensorflow/python/eager/backprop.py?line=159'>160</a>\u001b[0m     gradient_name_scope \u001b[39m+\u001b[39m\u001b[39m=\u001b[39m forward_pass_name_scope \u001b[39m+\u001b[39m \u001b[39m\"\u001b[39m\u001b[39m/\u001b[39m\u001b[39m\"\u001b[39m\n\u001b[1;32m    <a href='file:///home/jskang/anaconda3/envs/rl_final/lib/python3.9/site-packages/tensorflow/python/eager/backprop.py?line=160'>161</a>\u001b[0m   \u001b[39mwith\u001b[39;00m ops\u001b[39m.\u001b[39mname_scope(gradient_name_scope):\n\u001b[0;32m--> <a href='file:///home/jskang/anaconda3/envs/rl_final/lib/python3.9/site-packages/tensorflow/python/eager/backprop.py?line=161'>162</a>\u001b[0m     \u001b[39mreturn\u001b[39;00m grad_fn(mock_op, \u001b[39m*\u001b[39;49mout_grads)\n\u001b[1;32m    <a href='file:///home/jskang/anaconda3/envs/rl_final/lib/python3.9/site-packages/tensorflow/python/eager/backprop.py?line=162'>163</a>\u001b[0m \u001b[39melse\u001b[39;00m:\n\u001b[1;32m    <a href='file:///home/jskang/anaconda3/envs/rl_final/lib/python3.9/site-packages/tensorflow/python/eager/backprop.py?line=163'>164</a>\u001b[0m   \u001b[39mreturn\u001b[39;00m grad_fn(mock_op, \u001b[39m*\u001b[39mout_grads)\n",
      "File \u001b[0;32m~/anaconda3/envs/rl_final/lib/python3.9/site-packages/tensorflow/python/ops/math_grad.py:255\u001b[0m, in \u001b[0;36m_MeanGrad\u001b[0;34m(op, grad)\u001b[0m\n\u001b[1;32m    <a href='file:///home/jskang/anaconda3/envs/rl_final/lib/python3.9/site-packages/tensorflow/python/ops/math_grad.py?line=251'>252</a>\u001b[0m \u001b[39m@ops\u001b[39m\u001b[39m.\u001b[39mRegisterGradient(\u001b[39m\"\u001b[39m\u001b[39mMean\u001b[39m\u001b[39m\"\u001b[39m)\n\u001b[1;32m    <a href='file:///home/jskang/anaconda3/envs/rl_final/lib/python3.9/site-packages/tensorflow/python/ops/math_grad.py?line=252'>253</a>\u001b[0m \u001b[39mdef\u001b[39;00m \u001b[39m_MeanGrad\u001b[39m(op, grad):\n\u001b[1;32m    <a href='file:///home/jskang/anaconda3/envs/rl_final/lib/python3.9/site-packages/tensorflow/python/ops/math_grad.py?line=253'>254</a>\u001b[0m   \u001b[39m\"\"\"Gradient for Mean.\"\"\"\u001b[39;00m\n\u001b[0;32m--> <a href='file:///home/jskang/anaconda3/envs/rl_final/lib/python3.9/site-packages/tensorflow/python/ops/math_grad.py?line=254'>255</a>\u001b[0m   sum_grad \u001b[39m=\u001b[39m _SumGrad(op, grad)[\u001b[39m0\u001b[39m]\n\u001b[1;32m    <a href='file:///home/jskang/anaconda3/envs/rl_final/lib/python3.9/site-packages/tensorflow/python/ops/math_grad.py?line=255'>256</a>\u001b[0m   input_shape \u001b[39m=\u001b[39m op\u001b[39m.\u001b[39minputs[\u001b[39m0\u001b[39m]\u001b[39m.\u001b[39m_shape_tuple()  \u001b[39m# pylint: disable=protected-access\u001b[39;00m\n\u001b[1;32m    <a href='file:///home/jskang/anaconda3/envs/rl_final/lib/python3.9/site-packages/tensorflow/python/ops/math_grad.py?line=256'>257</a>\u001b[0m   output_shape \u001b[39m=\u001b[39m op\u001b[39m.\u001b[39moutputs[\u001b[39m0\u001b[39m]\u001b[39m.\u001b[39m_shape_tuple()  \u001b[39m# pylint: disable=protected-access\u001b[39;00m\n",
      "File \u001b[0;32m~/anaconda3/envs/rl_final/lib/python3.9/site-packages/tensorflow/python/ops/math_grad.py:166\u001b[0m, in \u001b[0;36m_SumGrad\u001b[0;34m(op, grad)\u001b[0m\n\u001b[1;32m    <a href='file:///home/jskang/anaconda3/envs/rl_final/lib/python3.9/site-packages/tensorflow/python/ops/math_grad.py?line=163'>164</a>\u001b[0m \u001b[39melse\u001b[39;00m:\n\u001b[1;32m    <a href='file:///home/jskang/anaconda3/envs/rl_final/lib/python3.9/site-packages/tensorflow/python/ops/math_grad.py?line=164'>165</a>\u001b[0m   new_shape \u001b[39m=\u001b[39m [\u001b[39m1\u001b[39m] \u001b[39m*\u001b[39m rank\n\u001b[0;32m--> <a href='file:///home/jskang/anaconda3/envs/rl_final/lib/python3.9/site-packages/tensorflow/python/ops/math_grad.py?line=165'>166</a>\u001b[0m grad \u001b[39m=\u001b[39m array_ops\u001b[39m.\u001b[39;49mreshape(grad, new_shape)\n\u001b[1;32m    <a href='file:///home/jskang/anaconda3/envs/rl_final/lib/python3.9/site-packages/tensorflow/python/ops/math_grad.py?line=166'>167</a>\u001b[0m \u001b[39m# If shape is not fully defined (but rank is), we use Shape.\u001b[39;00m\n\u001b[1;32m    <a href='file:///home/jskang/anaconda3/envs/rl_final/lib/python3.9/site-packages/tensorflow/python/ops/math_grad.py?line=167'>168</a>\u001b[0m \u001b[39mif\u001b[39;00m \u001b[39mNone\u001b[39;00m \u001b[39mnot\u001b[39;00m \u001b[39min\u001b[39;00m input_0_shape:\n",
      "File \u001b[0;32m~/anaconda3/envs/rl_final/lib/python3.9/site-packages/tensorflow/python/util/dispatch.py:201\u001b[0m, in \u001b[0;36madd_dispatch_support.<locals>.wrapper\u001b[0;34m(*args, **kwargs)\u001b[0m\n\u001b[1;32m    <a href='file:///home/jskang/anaconda3/envs/rl_final/lib/python3.9/site-packages/tensorflow/python/util/dispatch.py?line=198'>199</a>\u001b[0m \u001b[39m\"\"\"Call target, and fall back on dispatchers if there is a TypeError.\"\"\"\u001b[39;00m\n\u001b[1;32m    <a href='file:///home/jskang/anaconda3/envs/rl_final/lib/python3.9/site-packages/tensorflow/python/util/dispatch.py?line=199'>200</a>\u001b[0m \u001b[39mtry\u001b[39;00m:\n\u001b[0;32m--> <a href='file:///home/jskang/anaconda3/envs/rl_final/lib/python3.9/site-packages/tensorflow/python/util/dispatch.py?line=200'>201</a>\u001b[0m   \u001b[39mreturn\u001b[39;00m target(\u001b[39m*\u001b[39;49margs, \u001b[39m*\u001b[39;49m\u001b[39m*\u001b[39;49mkwargs)\n\u001b[1;32m    <a href='file:///home/jskang/anaconda3/envs/rl_final/lib/python3.9/site-packages/tensorflow/python/util/dispatch.py?line=201'>202</a>\u001b[0m \u001b[39mexcept\u001b[39;00m (\u001b[39mTypeError\u001b[39;00m, \u001b[39mValueError\u001b[39;00m):\n\u001b[1;32m    <a href='file:///home/jskang/anaconda3/envs/rl_final/lib/python3.9/site-packages/tensorflow/python/util/dispatch.py?line=202'>203</a>\u001b[0m   \u001b[39m# Note: convert_to_eager_tensor currently raises a ValueError, not a\u001b[39;00m\n\u001b[1;32m    <a href='file:///home/jskang/anaconda3/envs/rl_final/lib/python3.9/site-packages/tensorflow/python/util/dispatch.py?line=203'>204</a>\u001b[0m   \u001b[39m# TypeError, when given unexpected types.  So we need to catch both.\u001b[39;00m\n\u001b[1;32m    <a href='file:///home/jskang/anaconda3/envs/rl_final/lib/python3.9/site-packages/tensorflow/python/util/dispatch.py?line=204'>205</a>\u001b[0m   result \u001b[39m=\u001b[39m dispatch(wrapper, args, kwargs)\n",
      "File \u001b[0;32m~/anaconda3/envs/rl_final/lib/python3.9/site-packages/tensorflow/python/ops/array_ops.py:195\u001b[0m, in \u001b[0;36mreshape\u001b[0;34m(tensor, shape, name)\u001b[0m\n\u001b[1;32m     <a href='file:///home/jskang/anaconda3/envs/rl_final/lib/python3.9/site-packages/tensorflow/python/ops/array_ops.py?line=58'>59</a>\u001b[0m \u001b[39m@tf_export\u001b[39m(\u001b[39m\"\u001b[39m\u001b[39mreshape\u001b[39m\u001b[39m\"\u001b[39m, v1\u001b[39m=\u001b[39m[\u001b[39m\"\u001b[39m\u001b[39mreshape\u001b[39m\u001b[39m\"\u001b[39m, \u001b[39m\"\u001b[39m\u001b[39mmanip.reshape\u001b[39m\u001b[39m\"\u001b[39m])\n\u001b[1;32m     <a href='file:///home/jskang/anaconda3/envs/rl_final/lib/python3.9/site-packages/tensorflow/python/ops/array_ops.py?line=59'>60</a>\u001b[0m \u001b[39m@dispatch\u001b[39m\u001b[39m.\u001b[39madd_dispatch_support\n\u001b[1;32m     <a href='file:///home/jskang/anaconda3/envs/rl_final/lib/python3.9/site-packages/tensorflow/python/ops/array_ops.py?line=60'>61</a>\u001b[0m \u001b[39mdef\u001b[39;00m \u001b[39mreshape\u001b[39m(tensor, shape, name\u001b[39m=\u001b[39m\u001b[39mNone\u001b[39;00m):  \u001b[39m# pylint: disable=redefined-outer-name\u001b[39;00m\n\u001b[1;32m     <a href='file:///home/jskang/anaconda3/envs/rl_final/lib/python3.9/site-packages/tensorflow/python/ops/array_ops.py?line=61'>62</a>\u001b[0m   \u001b[39mr\u001b[39m\u001b[39m\"\"\"Reshapes a tensor.\u001b[39;00m\n\u001b[1;32m     <a href='file:///home/jskang/anaconda3/envs/rl_final/lib/python3.9/site-packages/tensorflow/python/ops/array_ops.py?line=62'>63</a>\u001b[0m \n\u001b[1;32m     <a href='file:///home/jskang/anaconda3/envs/rl_final/lib/python3.9/site-packages/tensorflow/python/ops/array_ops.py?line=63'>64</a>\u001b[0m \u001b[39m  Given `tensor`, this operation returns a new `tf.Tensor` that has the same\u001b[39;00m\n\u001b[0;32m   (...)\u001b[0m\n\u001b[1;32m    <a href='file:///home/jskang/anaconda3/envs/rl_final/lib/python3.9/site-packages/tensorflow/python/ops/array_ops.py?line=192'>193</a>\u001b[0m \u001b[39m    A `Tensor`. Has the same type as `tensor`.\u001b[39;00m\n\u001b[1;32m    <a href='file:///home/jskang/anaconda3/envs/rl_final/lib/python3.9/site-packages/tensorflow/python/ops/array_ops.py?line=193'>194</a>\u001b[0m \u001b[39m  \"\"\"\u001b[39;00m\n\u001b[0;32m--> <a href='file:///home/jskang/anaconda3/envs/rl_final/lib/python3.9/site-packages/tensorflow/python/ops/array_ops.py?line=194'>195</a>\u001b[0m   result \u001b[39m=\u001b[39m gen_array_ops\u001b[39m.\u001b[39;49mreshape(tensor, shape, name)\n\u001b[1;32m    <a href='file:///home/jskang/anaconda3/envs/rl_final/lib/python3.9/site-packages/tensorflow/python/ops/array_ops.py?line=195'>196</a>\u001b[0m   tensor_util\u001b[39m.\u001b[39mmaybe_set_static_shape(result, shape)\n\u001b[1;32m    <a href='file:///home/jskang/anaconda3/envs/rl_final/lib/python3.9/site-packages/tensorflow/python/ops/array_ops.py?line=196'>197</a>\u001b[0m   \u001b[39mreturn\u001b[39;00m result\n",
      "File \u001b[0;32m~/anaconda3/envs/rl_final/lib/python3.9/site-packages/tensorflow/python/ops/gen_array_ops.py:8364\u001b[0m, in \u001b[0;36mreshape\u001b[0;34m(tensor, shape, name)\u001b[0m\n\u001b[1;32m   <a href='file:///home/jskang/anaconda3/envs/rl_final/lib/python3.9/site-packages/tensorflow/python/ops/gen_array_ops.py?line=8361'>8362</a>\u001b[0m \u001b[39mif\u001b[39;00m tld\u001b[39m.\u001b[39mis_eager:\n\u001b[1;32m   <a href='file:///home/jskang/anaconda3/envs/rl_final/lib/python3.9/site-packages/tensorflow/python/ops/gen_array_ops.py?line=8362'>8363</a>\u001b[0m   \u001b[39mtry\u001b[39;00m:\n\u001b[0;32m-> <a href='file:///home/jskang/anaconda3/envs/rl_final/lib/python3.9/site-packages/tensorflow/python/ops/gen_array_ops.py?line=8363'>8364</a>\u001b[0m     _result \u001b[39m=\u001b[39m pywrap_tfe\u001b[39m.\u001b[39;49mTFE_Py_FastPathExecute(\n\u001b[1;32m   <a href='file:///home/jskang/anaconda3/envs/rl_final/lib/python3.9/site-packages/tensorflow/python/ops/gen_array_ops.py?line=8364'>8365</a>\u001b[0m       _ctx, \u001b[39m\"\u001b[39;49m\u001b[39mReshape\u001b[39;49m\u001b[39m\"\u001b[39;49m, name, tensor, shape)\n\u001b[1;32m   <a href='file:///home/jskang/anaconda3/envs/rl_final/lib/python3.9/site-packages/tensorflow/python/ops/gen_array_ops.py?line=8365'>8366</a>\u001b[0m     \u001b[39mreturn\u001b[39;00m _result\n\u001b[1;32m   <a href='file:///home/jskang/anaconda3/envs/rl_final/lib/python3.9/site-packages/tensorflow/python/ops/gen_array_ops.py?line=8366'>8367</a>\u001b[0m   \u001b[39mexcept\u001b[39;00m _core\u001b[39m.\u001b[39m_NotOkStatusException \u001b[39mas\u001b[39;00m e:\n",
      "\u001b[0;31mKeyboardInterrupt\u001b[0m: "
     ]
    }
   ],
   "source": [
    "from models import dqn\n",
    "import tensorflow as tf\n",
    "from tensorflow import keras\n",
    "\n",
    "from collections import deque\n",
    "import numpy as np\n",
    "import matplotlib\n",
    "import matplotlib.pyplot as plt\n",
    "import gym\n",
    "from lava_grid import ZigZag6x10\n",
    "from agent_lava import agent\n",
    "import random\n",
    "\n",
    "max_steps = 100\n",
    "stochasticity = 0 # probability of the selected action failing and instead executing any of the remaining 3\n",
    "no_render = True\n",
    "\n",
    "env = ZigZag6x10(max_steps=max_steps, act_fail_prob=stochasticity, goal=(5, 9), numpy_state=False)\n",
    "\n",
    "\n",
    "episodes = 3000  # number of episodes to run\n",
    "initialize = 500  # initial time steps before start updating\n",
    "\n",
    "# recieve 1 at rightmost stae and recieve small reward at leftmost state\n",
    "agent = agent(env)\n",
    "s = env.reset()\n",
    "\n",
    "rrecord = []\n",
    "totalstep = 0\n",
    "for ite in range(episodes):\n",
    "    obs = env.reset()\n",
    "    done = False\n",
    "    rsum = 0\n",
    "    while not done:\n",
    "        totalstep +=1\n",
    "        action = agent.action(obs)\n",
    "        next_obs,reward,done,info = env.step(action)\n",
    "        if type(obs) == np.int64 :\n",
    "            obs = np.zeros((60,)).tolist()\n",
    "            #print(obs, \"test\")\n",
    "        rsum += reward\n",
    "        experience = (obs,action,reward,next_obs,done)\n",
    "        agent.buffer.append(experience)\n",
    "\n",
    "        if totalstep>initialize:\n",
    "            agent.train(totalstep)\n",
    "        obs = next_obs\n",
    "\n",
    "################################################################################\n",
    "    ## DO NOT CHANGE THIS PART!\n",
    "    rrecord.append(rsum)\n",
    "    if ite % 1000 == 0:\n",
    "        print('iteration {} ave reward {}'.format(ite, np.mean(rrecord[-10:])))\n",
    "    \n",
    "    ave100 = np.mean(rrecord[-100:])   \n",
    "    if  ave100 >= 0:\n",
    "        print(\"Solved after %d episodes.\"%ite)\n",
    "        break"
   ]
  }
 ],
 "metadata": {
  "interpreter": {
   "hash": "6b8ac3fc04880ec3c745ec33db7677d09628aa7e2e0c0a0338178b516357407b"
  },
  "kernelspec": {
   "display_name": "Python 3.9.12 ('rl_final')",
   "language": "python",
   "name": "python3"
  },
  "language_info": {
   "codemirror_mode": {
    "name": "ipython",
    "version": 3
   },
   "file_extension": ".py",
   "mimetype": "text/x-python",
   "name": "python",
   "nbconvert_exporter": "python",
   "pygments_lexer": "ipython3",
   "version": "3.9.12"
  },
  "orig_nbformat": 4
 },
 "nbformat": 4,
 "nbformat_minor": 2
}
